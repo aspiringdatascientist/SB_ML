{
 "cells": [
  {
   "cell_type": "markdown",
   "metadata": {},
   "source": [
    "# Basic Text Classification with Naive Bayes\n",
    "***\n",
    "In the mini-project, you'll learn the basics of text analysis using a subset of movie reviews from the rotten tomatoes database. You'll also use a fundamental technique in Bayesian inference, called Naive Bayes. This mini-project is based on [Lab 10 of Harvard's CS109](https://github.com/cs109/2015lab10) class.  Please free to go to the original lab for additional exercises and solutions."
   ]
  },
  {
   "cell_type": "code",
   "execution_count": 51,
   "metadata": {},
   "outputs": [],
   "source": [
    "%matplotlib inline\n",
    "import numpy as np\n",
    "import scipy as sp\n",
    "import matplotlib as mpl\n",
    "import matplotlib.cm as cm\n",
    "import matplotlib.pyplot as plt\n",
    "import pandas as pd\n",
    "import seaborn as sns\n",
    "from six.moves import range\n",
    "\n",
    "# Setup Pandas\n",
    "pd.set_option('display.width', 500)\n",
    "pd.set_option('display.max_columns', 100)\n",
    "pd.set_option('display.notebook_repr_html', True)\n",
    "\n",
    "# Setup Seaborn\n",
    "sns.set_style(\"whitegrid\")\n",
    "sns.set_context(\"poster\")"
   ]
  },
  {
   "cell_type": "markdown",
   "metadata": {},
   "source": [
    "# Table of Contents\n",
    "\n",
    "* [Rotten Tomatoes Dataset](#Rotten-Tomatoes-Dataset)\n",
    "    * [Explore](#Explore)\n",
    "* [The Vector Space Model and a Search Engine](#The-Vector-Space-Model-and-a-Search-Engine)\n",
    "    * [In Code](#In-Code)\n",
    "* [Naive Bayes](#Naive-Bayes)\n",
    "    * [Multinomial Naive Bayes and Other Likelihood Functions](#Multinomial-Naive-Bayes-and-Other-Likelihood-Functions)\n",
    "    * [Picking Hyperparameters for Naive Bayes and Text Maintenance](#Picking-Hyperparameters-for-Naive-Bayes-and-Text-Maintenance)\n",
    "* [Interpretation](#Interpretation)\n"
   ]
  },
  {
   "cell_type": "markdown",
   "metadata": {},
   "source": [
    "## Rotten Tomatoes Dataset"
   ]
  },
  {
   "cell_type": "code",
   "execution_count": 52,
   "metadata": {},
   "outputs": [
    {
     "data": {
      "text/html": [
       "<div>\n",
       "<style scoped>\n",
       "    .dataframe tbody tr th:only-of-type {\n",
       "        vertical-align: middle;\n",
       "    }\n",
       "\n",
       "    .dataframe tbody tr th {\n",
       "        vertical-align: top;\n",
       "    }\n",
       "\n",
       "    .dataframe thead th {\n",
       "        text-align: right;\n",
       "    }\n",
       "</style>\n",
       "<table border=\"1\" class=\"dataframe\">\n",
       "  <thead>\n",
       "    <tr style=\"text-align: right;\">\n",
       "      <th></th>\n",
       "      <th>critic</th>\n",
       "      <th>fresh</th>\n",
       "      <th>imdb</th>\n",
       "      <th>publication</th>\n",
       "      <th>quote</th>\n",
       "      <th>review_date</th>\n",
       "      <th>rtid</th>\n",
       "      <th>title</th>\n",
       "    </tr>\n",
       "  </thead>\n",
       "  <tbody>\n",
       "    <tr>\n",
       "      <th>1</th>\n",
       "      <td>Derek Adams</td>\n",
       "      <td>fresh</td>\n",
       "      <td>114709</td>\n",
       "      <td>Time Out</td>\n",
       "      <td>So ingenious in concept, design and execution ...</td>\n",
       "      <td>2009-10-04</td>\n",
       "      <td>9559</td>\n",
       "      <td>Toy story</td>\n",
       "    </tr>\n",
       "    <tr>\n",
       "      <th>2</th>\n",
       "      <td>Richard Corliss</td>\n",
       "      <td>fresh</td>\n",
       "      <td>114709</td>\n",
       "      <td>TIME Magazine</td>\n",
       "      <td>The year's most inventive comedy.</td>\n",
       "      <td>2008-08-31</td>\n",
       "      <td>9559</td>\n",
       "      <td>Toy story</td>\n",
       "    </tr>\n",
       "    <tr>\n",
       "      <th>3</th>\n",
       "      <td>David Ansen</td>\n",
       "      <td>fresh</td>\n",
       "      <td>114709</td>\n",
       "      <td>Newsweek</td>\n",
       "      <td>A winning animated feature that has something ...</td>\n",
       "      <td>2008-08-18</td>\n",
       "      <td>9559</td>\n",
       "      <td>Toy story</td>\n",
       "    </tr>\n",
       "    <tr>\n",
       "      <th>4</th>\n",
       "      <td>Leonard Klady</td>\n",
       "      <td>fresh</td>\n",
       "      <td>114709</td>\n",
       "      <td>Variety</td>\n",
       "      <td>The film sports a provocative and appealing st...</td>\n",
       "      <td>2008-06-09</td>\n",
       "      <td>9559</td>\n",
       "      <td>Toy story</td>\n",
       "    </tr>\n",
       "    <tr>\n",
       "      <th>5</th>\n",
       "      <td>Jonathan Rosenbaum</td>\n",
       "      <td>fresh</td>\n",
       "      <td>114709</td>\n",
       "      <td>Chicago Reader</td>\n",
       "      <td>An entertaining computer-generated, hyperreali...</td>\n",
       "      <td>2008-03-10</td>\n",
       "      <td>9559</td>\n",
       "      <td>Toy story</td>\n",
       "    </tr>\n",
       "  </tbody>\n",
       "</table>\n",
       "</div>"
      ],
      "text/plain": [
       "               critic  fresh    imdb     publication                                              quote review_date  rtid      title\n",
       "1         Derek Adams  fresh  114709        Time Out  So ingenious in concept, design and execution ...  2009-10-04  9559  Toy story\n",
       "2     Richard Corliss  fresh  114709   TIME Magazine                  The year's most inventive comedy.  2008-08-31  9559  Toy story\n",
       "3         David Ansen  fresh  114709        Newsweek  A winning animated feature that has something ...  2008-08-18  9559  Toy story\n",
       "4       Leonard Klady  fresh  114709         Variety  The film sports a provocative and appealing st...  2008-06-09  9559  Toy story\n",
       "5  Jonathan Rosenbaum  fresh  114709  Chicago Reader  An entertaining computer-generated, hyperreali...  2008-03-10  9559  Toy story"
      ]
     },
     "execution_count": 52,
     "metadata": {},
     "output_type": "execute_result"
    }
   ],
   "source": [
    "critics = pd.read_csv('./critics.csv')\n",
    "#let's drop rows with missing quotes\n",
    "critics = critics[~critics.quote.isnull()]\n",
    "critics = critics[critics.astype(str).ne('none').all(1)]\n",
    "critics.head()"
   ]
  },
  {
   "cell_type": "markdown",
   "metadata": {},
   "source": [
    "### Explore"
   ]
  },
  {
   "cell_type": "code",
   "execution_count": 53,
   "metadata": {},
   "outputs": [
    {
     "name": "stdout",
     "output_type": "stream",
     "text": [
      "Number of reviews: 15534\n",
      "Number of critics: 622\n",
      "Number of movies:  1921\n"
     ]
    }
   ],
   "source": [
    "n_reviews = len(critics)\n",
    "n_movies = critics.rtid.unique().size\n",
    "n_critics = critics.critic.unique().size\n",
    "\n",
    "\n",
    "print(\"Number of reviews: {:d}\".format(n_reviews))\n",
    "print(\"Number of critics: {:d}\".format(n_critics))\n",
    "print(\"Number of movies:  {:d}\".format(n_movies))"
   ]
  },
  {
   "cell_type": "code",
   "execution_count": 54,
   "metadata": {},
   "outputs": [
    {
     "data": {
      "image/png": "[encoded data removed]",
      "text/plain": [
       "<Figure size 432x288 with 1 Axes>"
      ]
     },
     "metadata": {},
     "output_type": "display_data"
    }
   ],
   "source": [
    "df = critics.copy()\n",
    "df['fresh'] = df.fresh == 'fresh'\n",
    "grp = df.groupby('critic')\n",
    "counts = grp.critic.count()  # number of reviews by each critic\n",
    "means = grp.fresh.mean()     # average freshness for each critic\n",
    "\n",
    "means[counts > 100].hist(bins=10, edgecolor='w', lw=1)\n",
    "plt.xlabel(\"Average Rating per critic\")\n",
    "plt.ylabel(\"Number of Critics\")\n",
    "plt.yticks([0, 2, 4, 6, 8, 10]);"
   ]
  },
  {
   "cell_type": "markdown",
   "metadata": {},
   "source": [
    "<div class=\"span5 alert alert-info\">\n",
    "<h3>Exercise Set I</h3>\n",
    "<br/>\n",
    "<b>Exercise:</b> Look at the histogram above. Tell a story about the average ratings per critic. What shape does the distribution look like? What is interesting about the distribution? What might explain these interesting things?\n",
    "</div>"
   ]
  },
  {
   "cell_type": "markdown",
   "metadata": {},
   "source": [
    "**Solution:**\n",
    "\n",
    "*The most common average movie ratings per critic( whose number of reviews is greater than 100) is 0.6. The distribution looks like it is left skewed. What's interesting about the distributon is that most of the average movie ratings per critic is >0.6. The distribution seems to be smooth to the right of 0.6 and look completely scattered to the left of 0.6. This suggests the balancing act done by most of the critics by setting a base rating which is somewhere in the middle and they rarely rate below 0.6.*"
   ]
  },
  {
   "cell_type": "markdown",
   "metadata": {},
   "source": [
    "## The Vector Space Model and a Search Engine"
   ]
  },
  {
   "cell_type": "markdown",
   "metadata": {},
   "source": [
    "All the diagrams here are snipped from [*Introduction to Information Retrieval* by Manning et. al.]( http://nlp.stanford.edu/IR-book/) which is a great resource on text processing. For additional information on text mining and natural language processing, see [*Foundations of Statistical Natural Language Processing* by Manning and Schutze](http://nlp.stanford.edu/fsnlp/).\n",
    "\n",
    "Also check out Python packages [`nltk`](http://www.nltk.org/), [`spaCy`](https://spacy.io/), [`pattern`](http://www.clips.ua.ac.be/pattern), and their associated resources. Also see [`word2vec`](https://en.wikipedia.org/wiki/Word2vec).\n",
    "\n",
    "Let us define the vector derived from document $d$ by $\\bar V(d)$. What does this mean? Each document is treated as a vector containing information about the words contained in it. Each vector has the same length and each entry \"slot\" in the vector contains some kind of data about the words that appear in the document such as presence/absence (1/0), count (an integer) or some other statistic. Each vector has the same length because each document shared the same vocabulary across the full collection of documents -- this collection is called a *corpus*.\n",
    "\n",
    "To define the vocabulary, we take a union of all words we have seen in all documents. We then just associate an array index with them. So \"hello\" may be at index 5 and \"world\" at index 99.\n",
    "\n",
    "Suppose we have the following corpus:\n",
    "\n",
    "`A Fox one day spied a beautiful bunch of ripe grapes hanging from a vine trained along the branches of a tree. The grapes seemed ready to burst with juice, and the Fox's mouth watered as he gazed longingly at them.`\n",
    "\n",
    "Suppose we treat each sentence as a document $d$. The vocabulary (often called the *lexicon*) is the following:\n",
    "\n",
    "$V = \\left\\{\\right.$ `a, along, and, as, at, beautiful, branches, bunch, burst, day, fox, fox's, from, gazed, grapes, hanging, he, juice, longingly, mouth, of, one, ready, ripe, seemed, spied, the, them, to, trained, tree, vine, watered, with`$\\left.\\right\\}$\n",
    "\n",
    "Then the document\n",
    "\n",
    "`A Fox one day spied a beautiful bunch of ripe grapes hanging from a vine trained along the branches of a tree`\n",
    "\n",
    "may be represented as the following sparse vector of word counts:\n",
    "\n",
    "$$\\bar V(d) = \\left( 4,1,0,0,0,1,1,1,0,1,1,0,1,0,1,1,0,0,0,0,2,1,0,1,0,0,1,0,0,1,1,1,0,0 \\right)$$\n",
    "\n",
    "or more succinctly as\n",
    "\n",
    "`[(0, 4), (1, 1), (5, 1), (6, 1), (7, 1), (9, 1), (10, 1), (12, 1), (14, 1), (15, 1), (20, 2), (21, 1), (23, 1),`\n",
    "`(26, 1), (29,1), (30, 1), (31, 1)]`\n",
    "\n",
    "along with a dictionary\n",
    "\n",
    "``\n",
    "{\n",
    "    0: a, 1: along, 5: beautiful, 6: branches, 7: bunch, 9: day, 10: fox, 12: from, 14: grapes, 15: hanging, 19: mouth, 20: of, 21: one, 23: ripe, 24: seemed, 25: spied, 26: the, 29:trained, 30: tree, 31: vine, \n",
    "}\n",
    "``\n",
    "\n",
    "Then, a set of documents becomes, in the usual `sklearn` style, a sparse matrix with rows being sparse arrays representing documents and columns representing the features/words in the vocabulary.\n",
    "\n",
    "Notice that this representation loses the relative ordering of the terms in the document. That is \"cat ate rat\" and \"rat ate cat\" are the same. Thus, this representation is also known as the Bag-Of-Words representation.\n",
    "\n",
    "Here is another example, from the book quoted above, although the matrix is transposed here so that documents are columns:\n",
    "\n",
    "![novel terms](terms.png)\n",
    "\n",
    "Such a matrix is also catted a Term-Document Matrix. Here, the terms being indexed could be stemmed before indexing; for instance, `jealous` and `jealousy` after stemming are the same feature. One could also make use of other \"Natural Language Processing\" transformations in constructing the vocabulary. We could use Lemmatization, which reduces words to lemmas: work, working, worked would all reduce to work. We could remove \"stopwords\" from our vocabulary, such as common words like \"the\". We could look for particular parts of speech, such as adjectives. This is often done in Sentiment Analysis. And so on. It all depends on our application.\n",
    "\n",
    "From the book:\n",
    ">The standard way of quantifying the similarity between two documents $d_1$ and $d_2$  is to compute the cosine similarity of their vector representations $\\bar V(d_1)$ and $\\bar V(d_2)$:\n",
    "\n",
    "$$S_{12} = \\frac{\\bar V(d_1) \\cdot \\bar V(d_2)}{|\\bar V(d_1)| \\times |\\bar V(d_2)|}$$\n",
    "\n",
    "![Vector Space Model](vsm.png)\n",
    "\n",
    "\n",
    ">There is a far more compelling reason to represent documents as vectors: we can also view a query as a vector. Consider the query q = jealous gossip. This query turns into the unit vector $\\bar V(q)$ = (0, 0.707, 0.707) on the three coordinates below. \n",
    "\n",
    "![novel terms](terms2.png)\n",
    "\n",
    ">The key idea now: to assign to each document d a score equal to the dot product:\n",
    "\n",
    "$$\\bar V(q) \\cdot \\bar V(d)$$\n",
    "\n",
    "Then we can use this simple Vector Model as a Search engine."
   ]
  },
  {
   "cell_type": "markdown",
   "metadata": {},
   "source": [
    "### In Code"
   ]
  },
  {
   "cell_type": "code",
   "execution_count": 55,
   "metadata": {},
   "outputs": [
    {
     "name": "stdout",
     "output_type": "stream",
     "text": [
      "Original text is\n",
      "Hop on pop\n",
      "Hop off pop\n",
      "Hop Hop hop\n",
      "\n",
      "Transformed text vector is \n",
      "[[1 0 1 1]\n",
      " [1 1 0 1]\n",
      " [3 0 0 0]]\n",
      "\n",
      "Words for each feature:\n",
      "['hop', 'off', 'on', 'pop']\n"
     ]
    }
   ],
   "source": [
    "from sklearn.feature_extraction.text import CountVectorizer\n",
    "\n",
    "text = ['Hop on pop', 'Hop off pop', 'Hop Hop hop']\n",
    "print(\"Original text is\\n{}\".format('\\n'.join(text)))\n",
    "\n",
    "vectorizer = CountVectorizer(min_df=0)\n",
    "\n",
    "# call `fit` to build the vocabulary\n",
    "vectorizer.fit(text)\n",
    "\n",
    "# call `transform` to convert text to a bag of words\n",
    "x = vectorizer.transform(text)\n",
    "\n",
    "# CountVectorizer uses a sparse array to save memory, but it's easier in this assignment to \n",
    "# convert back to a \"normal\" numpy array\n",
    "x = x.toarray()\n",
    "\n",
    "print(\"\")\n",
    "print(\"Transformed text vector is \\n{}\".format(x))\n",
    "\n",
    "# `get_feature_names` tracks which word is associated with each column of the transformed x\n",
    "print(\"\")\n",
    "print(\"Words for each feature:\")\n",
    "print(vectorizer.get_feature_names())\n",
    "\n",
    "# Notice that the bag of words treatment doesn't preserve information about the *order* of words, \n",
    "# just their frequency"
   ]
  },
  {
   "cell_type": "code",
   "execution_count": 56,
   "metadata": {},
   "outputs": [],
   "source": [
    "def make_xy(critics, vectorizer=None):\n",
    "    #Your code here    \n",
    "    if vectorizer is None:\n",
    "        vectorizer = CountVectorizer()\n",
    "    X = vectorizer.fit_transform(critics.quote)\n",
    "    X = X.tocsc()  # some versions of sklearn return COO format\n",
    "    y = (critics.fresh == 'fresh').values.astype(np.int)\n",
    "    return X, y\n",
    "X, y = make_xy(critics)"
   ]
  },
  {
   "cell_type": "markdown",
   "metadata": {},
   "source": [
    "## Naive Bayes"
   ]
  },
  {
   "cell_type": "markdown",
   "metadata": {},
   "source": [
    "From Bayes' Theorem, we have that\n",
    "\n",
    "$$P(c \\vert f) = \\frac{P(c \\cap f)}{P(f)}$$\n",
    "\n",
    "where $c$ represents a *class* or category, and $f$ represents a feature vector, such as $\\bar V(d)$ as above. **We are computing the probability that a document (or whatever we are classifying) belongs to category *c* given the features in the document.** $P(f)$ is really just a normalization constant, so the literature usually writes Bayes' Theorem in context of Naive Bayes as\n",
    "\n",
    "$$P(c \\vert f) \\propto P(f \\vert c) P(c) $$\n",
    "\n",
    "$P(c)$ is called the *prior* and is simply the probability of seeing class $c$. But what is $P(f \\vert c)$? This is the probability that we see feature set $f$ given that this document is actually in class $c$. This is called the *likelihood* and comes from the data. One of the major assumptions of the Naive Bayes model is that the features are *conditionally independent* given the class. While the presence of a particular discriminative word may uniquely identify the document as being part of class $c$ and thus violate general feature independence, conditional independence means that the presence of that term is independent of all the other words that appear *within that class*. This is a very important distinction. Recall that if two events are independent, then:\n",
    "\n",
    "$$P(A \\cap B) = P(A) \\cdot P(B)$$\n",
    "\n",
    "Thus, conditional independence implies\n",
    "\n",
    "$$P(f \\vert c)  = \\prod_i P(f_i | c) $$\n",
    "\n",
    "where $f_i$ is an individual feature (a word in this example).\n",
    "\n",
    "To make a classification, we then choose the class $c$ such that $P(c \\vert f)$ is maximal.\n",
    "\n",
    "There is a small caveat when computing these probabilities. For [floating point underflow](http://nlp.stanford.edu/IR-book/html/htmledition/naive-bayes-text-classification-1.html) we change the product into a sum by going into log space. This is called the LogSumExp trick. So:\n",
    "\n",
    "$$\\log P(f \\vert c)  = \\sum_i \\log P(f_i \\vert c) $$\n",
    "\n",
    "There is another caveat. What if we see a term that didn't exist in the training data? This means that $P(f_i \\vert c) = 0$ for that term, and thus $P(f \\vert c)  = \\prod_i P(f_i | c) = 0$, which doesn't help us at all. Instead of using zeros, we add a small negligible value called $\\alpha$ to each count. This is called Laplace Smoothing.\n",
    "\n",
    "$$P(f_i \\vert c) = \\frac{N_{ic}+\\alpha}{N_c + \\alpha N_i}$$\n",
    "\n",
    "where $N_{ic}$ is the number of times feature $i$ was seen in class $c$, $N_c$ is the number of times class $c$ was seen and $N_i$ is the number of times feature $i$ was seen globally. $\\alpha$ is sometimes called a regularization parameter."
   ]
  },
  {
   "cell_type": "markdown",
   "metadata": {},
   "source": [
    "### Multinomial Naive Bayes and Other Likelihood Functions\n",
    "\n",
    "Since we are modeling word counts, we are using variation of Naive Bayes called Multinomial Naive Bayes. This is because the likelihood function actually takes the form of the multinomial distribution.\n",
    "\n",
    "$$P(f \\vert c) = \\frac{\\left( \\sum_i f_i \\right)!}{\\prod_i f_i!} \\prod_{f_i} P(f_i \\vert c)^{f_i} \\propto \\prod_{i} P(f_i \\vert c)$$\n",
    "\n",
    "where the nasty term out front is absorbed as a normalization constant such that probabilities sum to 1.\n",
    "\n",
    "There are many other variations of Naive Bayes, all which depend on what type of value $f_i$ takes. If $f_i$ is continuous, we may be able to use *Gaussian Naive Bayes*. First compute the mean and variance for each class $c$. Then the likelihood, $P(f \\vert c)$ is given as follows\n",
    "\n",
    "$$P(f_i = v \\vert c) = \\frac{1}{\\sqrt{2\\pi \\sigma^2_c}} e^{- \\frac{\\left( v - \\mu_c \\right)^2}{2 \\sigma^2_c}}$$"
   ]
  },
  {
   "cell_type": "markdown",
   "metadata": {},
   "source": [
    "<div class=\"span5 alert alert-info\">\n",
    "<h3>Exercise Set II</h3>\n",
    "\n",
    "<p><b>Exercise:</b> Implement a simple Naive Bayes classifier:</p>\n",
    "\n",
    "<ol>\n",
    "<li> split the data set into a training and test set\n",
    "<li> Use `scikit-learn`'s `MultinomialNB()` classifier with default parameters.\n",
    "<li> train the classifier over the training set and test on the test set\n",
    "<li> print the accuracy scores for both the training and the test sets\n",
    "</ol>\n",
    "\n",
    "What do you notice? Is this a good classifier? If not, why not?\n",
    "</div>"
   ]
  },
  {
   "cell_type": "code",
   "execution_count": 57,
   "metadata": {},
   "outputs": [
    {
     "name": "stdout",
     "output_type": "stream",
     "text": [
      "training accuracy:  0.9242817334486403\n",
      "testing accuracy:  0.7706260971328263\n"
     ]
    }
   ],
   "source": [
    "from sklearn.model_selection import train_test_split\n",
    "from sklearn.naive_bayes import MultinomialNB\n",
    "from sklearn.metrics import accuracy_score\n",
    "\n",
    "X_train, X_test, y_train, y_test = train_test_split(X, y, test_size=0.33)\n",
    "clf = MultinomialNB()\n",
    "clf.fit(X_train, y_train)\n",
    "print(\"training accuracy: \", accuracy_score(y_train, clf.predict(X_train)))\n",
    "print(\"testing accuracy: \", accuracy_score(y_test, clf.predict(X_test)))"
   ]
  },
  {
   "cell_type": "markdown",
   "metadata": {},
   "source": [
    "*We achieved 92% accuracy in training set which is way more than the 78% accuracy score in the test set(“unseen”). Our model doesn’t generalize well from our training data to unseen data. We can’t use this classifier since this model maybe just overfitting the distribution of training data.*"
   ]
  },
  {
   "cell_type": "markdown",
   "metadata": {},
   "source": [
    "### Picking Hyperparameters for Naive Bayes and Text Maintenance"
   ]
  },
  {
   "cell_type": "markdown",
   "metadata": {},
   "source": [
    "We need to know what value to use for $\\alpha$, and we also need to know which words to include in the vocabulary. As mentioned earlier, some words are obvious stopwords. Other words appear so infrequently that they serve as noise, and other words in addition to stopwords appear so frequently that they may also serve as noise."
   ]
  },
  {
   "cell_type": "markdown",
   "metadata": {},
   "source": [
    "First, let's find an appropriate value for `min_df` for the `CountVectorizer`. `min_df` can be either an integer or a float/decimal. If it is an integer, `min_df` represents the minimum number of documents a word must appear in for it to be included in the vocabulary. If it is a float, it represents the minimum *percentage* of documents a word must appear in to be included in the vocabulary. From the documentation:"
   ]
  },
  {
   "cell_type": "markdown",
   "metadata": {},
   "source": [
    ">min_df: When building the vocabulary ignore terms that have a document frequency strictly lower than the given threshold. This value is also called cut-off in the literature. If float, the parameter represents a proportion of documents, integer absolute counts. This parameter is ignored if vocabulary is not None."
   ]
  },
  {
   "cell_type": "markdown",
   "metadata": {},
   "source": [
    "<div class=\"span5 alert alert-info\">\n",
    "<h3>Exercise Set III</h3>\n",
    "\n",
    "<p><b>Exercise:</b> Construct the cumulative distribution of document frequencies (df). The $x$-axis is a document count $x_i$ and the $y$-axis is the percentage of words that appear less than $x_i$ times. For example, at $x=5$, plot a point representing the percentage or number of words that appear in 5 or fewer documents.</p>\n",
    "\n",
    "<p><b>Exercise:</b> Look for the point at which the curve begins climbing steeply. This may be a good value for `min_df`. If we were interested in also picking `max_df`, we would likely pick the value where the curve starts to plateau. What value did you choose?</p>\n",
    "</div>"
   ]
  },
  {
   "cell_type": "code",
   "execution_count": 58,
   "metadata": {},
   "outputs": [
    {
     "data": {
      "image/png": "[encoded data removed]",
      "text/plain": [
       "<Figure size 1080x1296 with 3 Axes>"
      ]
     },
     "metadata": {},
     "output_type": "display_data"
    }
   ],
   "source": [
    "# Your turn.\n",
    "X, y = make_xy(critics)\n",
    "# Transform scipy.sparse.csc.csc_matrix to dataframe\n",
    "df2 = pd.DataFrame((X>0).sum(axis=0)).T\n",
    "\n",
    "df2.columns = ['frequency']\n",
    "\n",
    "#defining ecdf function \n",
    "def ecdf(data):\n",
    "    \"\"\"Compute ECDF for a one-dimensional array of measurements.\"\"\"\n",
    "    # Number of data points: n\n",
    "    n = len(data)\n",
    "\n",
    "    # x-data for the ECDF: x\n",
    "    x = np.sort(data)\n",
    "\n",
    "    # y-data for the ECDF: yThe y data of the ECDF go from 1/n to 1 in equally spaced increments. You can construct this using np.arange().\n",
    "    #Remember, however, that the end value in np.arange() is not inclusive. Therefore, np.arange() will need to go from 1 to n+1.\n",
    "    # Be sure to divide this by n.\n",
    "    y = np.arange(1,n+1) / n\n",
    "\n",
    "    return x, y\n",
    "'''use  ecdf() function to Construct the cumulative distribution of document frequencies plots '''\n",
    "x_1 , y_1 = ecdf(df2.frequency)\n",
    "fig, (ax1, ax2,ax3) = plt.subplots(3, figsize = (15,18))\n",
    "\n",
    "ax1 = plt.subplot(212)\n",
    "plt.plot(x_1 , y_1, marker = \".\", linestyle= 'none')\n",
    "ax1.set_title('Default margin')\n",
    "plt.xlabel(\"# of documents\")\n",
    "plt.ylabel('Cumulative word frequency')\n",
    "\n",
    "ax2 = plt.subplot(221)\n",
    "plt.plot(x_1 , y_1, marker = \".\", linestyle= 'none')\n",
    "plt.xlim(3, 700)\n",
    "ax2.set_title('Zoomed in for max_df')\n",
    "plt.xlabel(\"# of documents\")\n",
    "plt.ylabel('Cumulative word frequency')\n",
    "\n",
    "ax3 = plt.subplot(222)\n",
    "plt.plot(x_1 , y_1, marker = \".\", linestyle= 'none')\n",
    "plt.xlim(-5, 25)\n",
    "ax3.set_title('Zoomed in for min_df')\n",
    "plt.xlabel(\"# of documents\")\n",
    "plt.ylabel('Cumulative word frequency')\n",
    "plt.show()"
   ]
  },
  {
   "cell_type": "markdown",
   "metadata": {},
   "source": [
    " *As we can see from the default margin plot above, the curve rises steeply just around 0. To set the min_df and max_df, we need to see the zoomed in version of the plots by setting axis limits. 10 documents or less in count had 85%  of words in vocabulary. Min_df  is used for removing terms that appear too infrequently., and max_df is used for removing terms that appear too frequently. The curve starts to plateau from 23 till it reaches 250.  So, I think if we set min_df = 23 and max_df = 250, that should cover  maximum% of the vocabulary.*"
   ]
  },
  {
   "cell_type": "markdown",
   "metadata": {},
   "source": [
    "The parameter $\\alpha$ is chosen to be a small value that simply avoids having zeros in the probability computations. This value can sometimes be chosen arbitrarily with domain expertise, but we will use K-fold cross validation. In K-fold cross-validation, we divide the data into $K$ non-overlapping parts. We train on $K-1$ of the folds and test on the remaining fold. We then iterate, so that each fold serves as the test fold exactly once. The function `cv_score` performs the K-fold cross-validation algorithm for us, but we need to pass a function that measures the performance of the algorithm on each fold. "
   ]
  },
  {
   "cell_type": "code",
   "execution_count": 59,
   "metadata": {},
   "outputs": [],
   "source": [
    "from sklearn.model_selection import KFold\n",
    "def cv_score(clf, X, y, scorefunc):\n",
    "    result = 0.\n",
    "    nfold = 5\n",
    "    for train, test in KFold(nfold).split(X): # split data into train/test groups, 5 times\n",
    "        clf.fit(X[train], y[train]) # fit the classifier, passed is as clf.\n",
    "        result += scorefunc(clf, X[test], y[test]) # evaluate score function on held-out data\n",
    "    return result / nfold # average"
   ]
  },
  {
   "cell_type": "markdown",
   "metadata": {},
   "source": [
    "We use the log-likelihood as the score here in `scorefunc`. The higher the log-likelihood, the better. Indeed, what we do in `cv_score` above is to implement the cross-validation part of `GridSearchCV`.\n",
    "\n",
    "The custom scoring function `scorefunc` allows us to use different metrics depending on the decision risk we care about (precision, accuracy, profit etc.) directly on the validation set. You will often find people using `roc_auc`, precision, recall, or `F1-score` as the scoring function."
   ]
  },
  {
   "cell_type": "code",
   "execution_count": 60,
   "metadata": {},
   "outputs": [],
   "source": [
    "def log_likelihood(clf, x, y):\n",
    "    prob = clf.predict_log_proba(x)\n",
    "    rotten = y == 0\n",
    "    fresh = ~rotten\n",
    "    return prob[rotten, 0].sum() + prob[fresh, 1].sum()"
   ]
  },
  {
   "cell_type": "markdown",
   "metadata": {},
   "source": [
    "We'll cross-validate over the regularization parameter $\\alpha$."
   ]
  },
  {
   "cell_type": "markdown",
   "metadata": {},
   "source": [
    "Let's set up the train and test masks first, and then we can run the cross-validation procedure."
   ]
  },
  {
   "cell_type": "code",
   "execution_count": 61,
   "metadata": {},
   "outputs": [],
   "source": [
    "from sklearn.model_selection import train_test_split\n",
    "_, itest = train_test_split(range(critics.shape[0]), test_size = 0.3)\n",
    "mask = np.zeros(critics.shape[0], dtype=np.bool)\n",
    "mask[itest] = True"
   ]
  },
  {
   "cell_type": "markdown",
   "metadata": {},
   "source": [
    "<div class=\"span5 alert alert-info\">\n",
    "<h3>Exercise Set IV</h3>\n",
    "\n",
    "<p><b>Exercise:</b> What does using the function `log_likelihood` as the score mean? What are we trying to optimize for?</p>\n",
    "\n",
    "<p><b>Exercise:</b> Without writing any code, what do you think would happen if you choose a value of $\\alpha$ that is too high?</p>\n",
    "\n",
    "<p><b>Exercise:</b> Using the skeleton code below, find the best values of the parameter `alpha`, and use the value of `min_df` you chose in the previous exercise set. Use the `cv_score` function above with the `log_likelihood` function for scoring.</p>\n",
    "</div>"
   ]
  },
  {
   "cell_type": "markdown",
   "metadata": {},
   "source": [
    "**Exercise: What does using the function `log_likelihood` as the score mean? What are we trying to optimize for?**\n",
    "\n",
    "*Given a dataset, what we want is to maximise the likelihood of the parameters. Maximising the likelihood of the parameters would mean maximising the probability. To get to the optimim, if we iterate to maximize probability, it would require a huge memory capacity. The log of a likelihood function is easier to work with as it converts condition probability products into sums. The natural logarithm is a monotonically increasing function. Gradient methods generally work better optimizing $logp(x)$ than $p(x)$ because the gradient of $logp(x)$ is generally more well-scaled. That is, it has a size that consistently  reflects the objective function's geometry, making it easier to select an appropriate step size and get to the optimum in fewer steps.*"
   ]
  },
  {
   "cell_type": "markdown",
   "metadata": {},
   "source": [
    "**Exercise: Without writing any code, what do you think would happen if you choose a value of  𝛼  that is too high?**\n",
    "\n",
    "*$\\alpha$ is a smoothing parameter, at its lowest value, there will be no smoothing, or the model will overfit the training data. If it is too high, the smoothing is going to be very high leading to lower accuracy*"
   ]
  },
  {
   "cell_type": "markdown",
   "metadata": {},
   "source": [
    "**Exercise: Using the skeleton code below, find the best values of the parameter `alpha`, and use the value of `min_df` you chose in the previous exercise set. Use the `cv_score` function above with the `log_likelihood` function for scoring.**"
   ]
  },
  {
   "cell_type": "code",
   "execution_count": 62,
   "metadata": {},
   "outputs": [
    {
     "name": "stdout",
     "output_type": "stream",
     "text": [
      "alpha: 0.1  min df: 5  score: -926.4327425873469\n",
      "alpha: 1  min df: 5  score: -615.8491365825494\n",
      "alpha: 5  min df: 5  score: -699.8883106319383\n",
      "alpha: 10  min df: 5  score: -900.0206405107228\n",
      "alpha: 50  min df: 5  score: -1169.047247364098\n",
      "alpha: 0.1  min df: 10  score: -819.3071103159785\n",
      "alpha: 1  min df: 10  score: -605.2408771852749\n",
      "alpha: 5  min df: 10  score: -589.1558416660517\n",
      "alpha: 10  min df: 10  score: -713.0014432820822\n",
      "alpha: 50  min df: 10  score: -1056.909985606153\n",
      "alpha: 0.1  min df: 15  score: -745.8289117915742\n",
      "alpha: 1  min df: 15  score: -598.2828279659923\n",
      "alpha: 5  min df: 15  score: -564.6143394449085\n",
      "alpha: 10  min df: 15  score: -636.9668957669583\n",
      "alpha: 50  min df: 15  score: -974.9318388133661\n",
      "alpha: 0.1  min df: 20  score: -705.9545648298697\n",
      "alpha: 1  min df: 20  score: -595.8553834656803\n",
      "alpha: 5  min df: 20  score: -558.9635022817906\n",
      "alpha: 10  min df: 20  score: -605.1118401877229\n",
      "alpha: 50  min df: 20  score: -918.8326481213662\n",
      "alpha: 0.1  min df: 23  score: -671.7267901715226\n",
      "alpha: 1  min df: 23  score: -588.1048291536861\n",
      "alpha: 5  min df: 23  score: -555.6625012427954\n",
      "alpha: 10  min df: 23  score: -590.9346896264846\n",
      "alpha: 50  min df: 23  score: -886.6920393774205\n",
      "alpha: 0.1  min df: 25  score: -669.1752687457329\n",
      "alpha: 1  min df: 25  score: -590.1568056761755\n",
      "alpha: 5  min df: 25  score: -557.1310005618014\n",
      "alpha: 10  min df: 25  score: -587.3311037105859\n",
      "alpha: 50  min df: 25  score: -871.2238482187388\n",
      "alpha: 0.1  min df: 30  score: -661.973330183581\n",
      "alpha: 1  min df: 30  score: -600.7123338861368\n",
      "alpha: 5  min df: 30  score: -565.4045644803222\n",
      "alpha: 10  min df: 30  score: -582.6982708977555\n",
      "alpha: 50  min df: 30  score: -832.7412951353166\n",
      "alpha: 0.1  min df: 35  score: -631.6959909380254\n",
      "alpha: 1  min df: 35  score: -590.4202078961856\n",
      "alpha: 5  min df: 35  score: -562.8019985650237\n",
      "alpha: 10  min df: 35  score: -574.8595250203828\n",
      "alpha: 50  min df: 35  score: -799.5402723204068\n",
      "\n",
      " best alpha: 5 \n",
      " best min df: 23  max score -555.6625012427954\n"
     ]
    }
   ],
   "source": [
    "from sklearn.naive_bayes import MultinomialNB\n",
    "\n",
    "#the grid of parameters to search over\n",
    "alphas = [.1, 1, 5, 10, 50]\n",
    "min_dfs= [5,10,15,20,23,25,30,35] ## best \n",
    "\n",
    "#Find the best value for alpha and min_df, and the best classifier\n",
    "best_alpha = None\n",
    "maxscore=-np.inf\n",
    "for m in min_dfs:\n",
    "    for alpha in alphas:        \n",
    "        vectorizer = CountVectorizer(min_df=m)       \n",
    "        Xthis, ythis = make_xy(critics, vectorizer)\n",
    "        Xtrainthis = Xthis[mask]\n",
    "        ytrainthis = ythis[mask]\n",
    "        clf = MultinomialNB(alpha=alpha)\n",
    "        score = cv_score(clf,Xtrainthis,ytrainthis,log_likelihood)\n",
    "        print('alpha:',alpha,' min df:',m,' score:',score)\n",
    "        if score>maxscore:\n",
    "            maxscore=score\n",
    "            best_alpha=alpha\n",
    "            best_min_df=m\n",
    "print('\\n','best alpha:',best_alpha,'\\n','best min df:',best_min_df,' max score',maxscore)"
   ]
  },
  {
   "cell_type": "code",
   "execution_count": 63,
   "metadata": {},
   "outputs": [
    {
     "name": "stdout",
     "output_type": "stream",
     "text": [
      "alpha: 5\n"
     ]
    }
   ],
   "source": [
    "print(\"alpha: {}\".format(best_alpha))"
   ]
  },
  {
   "cell_type": "markdown",
   "metadata": {},
   "source": [
    "<div class=\"span5 alert alert-info\">\n",
    "<h3>Exercise Set V: Working with the Best Parameters</h3>\n",
    "\n",
    "<p><b>Exercise:</b> Using the best value of  `alpha` you just found, calculate the accuracy on the training and test sets. Is this classifier better? Why (not)?</p>\n",
    "\n",
    "</div>"
   ]
  },
  {
   "cell_type": "code",
   "execution_count": 64,
   "metadata": {},
   "outputs": [
    {
     "name": "stdout",
     "output_type": "stream",
     "text": [
      "Accuracy on training data: 0.788672\n",
      "Accuracy on test data:     0.712131\n"
     ]
    }
   ],
   "source": [
    "vectorizer = CountVectorizer(min_df=23)\n",
    "X, y = make_xy(critics, vectorizer)\n",
    "xtrain=X[mask]\n",
    "ytrain=y[mask]\n",
    "xtest=X[~mask]\n",
    "ytest=y[~mask]\n",
    "\n",
    "clf = MultinomialNB(alpha=5).fit(xtrain, ytrain)\n",
    "\n",
    "#your turn. Print the accuracy on the test and training dataset\n",
    "training_accuracy = clf.score(xtrain, ytrain)\n",
    "test_accuracy = clf.score(xtest, ytest)\n",
    "\n",
    "print(\"Accuracy on training data: {:2f}\".format(training_accuracy))\n",
    "print(\"Accuracy on test data:     {:2f}\".format(test_accuracy))"
   ]
  },
  {
   "cell_type": "code",
   "execution_count": 65,
   "metadata": {},
   "outputs": [
    {
     "name": "stdout",
     "output_type": "stream",
     "text": [
      "[[2191 2001]\n",
      " [1129 5552]]\n"
     ]
    }
   ],
   "source": [
    "from sklearn.metrics import confusion_matrix\n",
    "print(confusion_matrix(ytest, clf.predict(xtest)))"
   ]
  },
  {
   "cell_type": "markdown",
   "metadata": {},
   "source": [
    "*Assuming from the confusion matrix above, 2001 predictied turned out to be false positives ,  1129 predicted were false negatives, 2191 predicted were true positives, and 5552 predicted were true negatives. Eventhough the accuracy of this classifier is not that great, this classifier is still better than the original one since the accuracy metrics  between train and test sets are not more than 7~8% of each other which in turn helps reduce the overfitting problem.* "
   ]
  },
  {
   "cell_type": "markdown",
   "metadata": {},
   "source": [
    "## Interpretation"
   ]
  },
  {
   "cell_type": "markdown",
   "metadata": {},
   "source": [
    "### What are the strongly predictive features?\n",
    "\n",
    "We use a neat trick to identify strongly predictive features (i.e. words). \n",
    "\n",
    "* first, create a data set such that each row has exactly one feature. This is represented by the identity matrix.\n",
    "* use the trained classifier to make predictions on this matrix\n",
    "* sort the rows by predicted probabilities, and pick the top and bottom $K$ rows"
   ]
  },
  {
   "cell_type": "code",
   "execution_count": 66,
   "metadata": {},
   "outputs": [
    {
     "name": "stdout",
     "output_type": "stream",
     "text": [
      "Good words\t     P(fresh | word)\n",
      "         masterpiece 0.87\n",
      "            american 0.86\n",
      "               witty 0.85\n",
      "        entertaining 0.85\n",
      "               gives 0.84\n",
      "         intelligent 0.84\n",
      "         performance 0.83\n",
      "               years 0.82\n",
      "           beautiful 0.82\n",
      "                 war 0.82\n",
      "Bad words\t     P(fresh | word)\n",
      "           formulaic 0.30\n",
      "             nothing 0.29\n",
      "               feels 0.28\n",
      "             numbers 0.26\n",
      "               worst 0.26\n",
      "       disappointing 0.26\n",
      "               bland 0.23\n",
      "                dull 0.22\n",
      "                  tv 0.20\n",
      "       unfortunately 0.20\n"
     ]
    }
   ],
   "source": [
    "words = np.array(vectorizer.get_feature_names())\n",
    "\n",
    "x = np.eye(xtest.shape[1])\n",
    "probs = clf.predict_log_proba(x)[:, 0]\n",
    "ind = np.argsort(probs)\n",
    "\n",
    "good_words = words[ind[:10]]\n",
    "bad_words = words[ind[-10:]]\n",
    "\n",
    "good_prob = probs[ind[:10]]\n",
    "bad_prob = probs[ind[-10:]]\n",
    "\n",
    "print(\"Good words\\t     P(fresh | word)\")\n",
    "for w, p in zip(good_words, good_prob):\n",
    "    print(\"{:>20}\".format(w), \"{:.2f}\".format(1 - np.exp(p)))\n",
    "    \n",
    "print(\"Bad words\\t     P(fresh | word)\")\n",
    "for w, p in zip(bad_words, bad_prob):\n",
    "    print(\"{:>20}\".format(w), \"{:.2f}\".format(1 - np.exp(p)))"
   ]
  },
  {
   "cell_type": "markdown",
   "metadata": {},
   "source": [
    "<div class=\"span5 alert alert-info\">\n",
    "<h3>Exercise Set VI</h3>\n",
    "\n",
    "<p><b>Exercise:</b> Why does this method work? What does the probability for each row in the identity matrix represent</p>\n",
    "\n",
    "</div>"
   ]
  },
  {
   "cell_type": "markdown",
   "metadata": {},
   "source": [
    "*This method builds a review with just one word and tries to classify the review based on that one word.This method works as it associates the occurence of an individual word to the final prediction, so all the words in a sentence are considered. The probability of the each row represents how likely the movie is to be voted fresh given that the word occured in the review.*"
   ]
  },
  {
   "cell_type": "markdown",
   "metadata": {},
   "source": [
    "The above exercise is an example of *feature selection*. There are many other feature selection methods. A list of feature selection methods available in `sklearn` is [here](http://scikit-learn.org/stable/modules/classes.html#module-sklearn.feature_selection). The most common feature selection technique for text mining is the chi-squared $\\left( \\chi^2 \\right)$ [method](http://nlp.stanford.edu/IR-book/html/htmledition/feature-selectionchi2-feature-selection-1.html)."
   ]
  },
  {
   "cell_type": "markdown",
   "metadata": {},
   "source": [
    "### Prediction Errors\n",
    "\n",
    "We can see mis-predictions as well."
   ]
  },
  {
   "cell_type": "code",
   "execution_count": 67,
   "metadata": {},
   "outputs": [
    {
     "name": "stdout",
     "output_type": "stream",
     "text": [
      "Mis-predicted Rotten quotes\n",
      "---------------------------\n",
      "Directed with composure, but no great fervour, the film's conspicuously uninterested in American football, and much concerned with testing the limits and the resilience of the American dream.\n",
      "\n",
      "Greenaway, whose mind is one of the most impressive, complicated organs that ever sat on the shoulders of a filmmaker, seems to be playing connect the dots to himself, almost dumbing himself down to be commercial.\n",
      "\n",
      "The hip, smart yarn has a bite not seen in American movies since The War of the Roses.\n",
      "\n",
      "Benefits from a lively lead performance by the miscast Denzel Washington but doesn't come within light years of the book, one of the greatest American autobiographies.\n",
      "\n",
      "Nary a tear-jerking trick is missed (our family loses one son to the Titanic, the other to World War I), and the strangulation is compounded by the staginess since the film.\n",
      "\n",
      "Mis-predicted Fresh quotes\n",
      "--------------------------\n",
      "Along with the rest of the audience, I jumped when I was meant to jump, laughed when I was meant to laugh, and swallowed a lump in my throat when I was meant to feel moved.\n",
      "\n",
      "This cautionary fable (Be True to Your Ghoulish Self) may be a little too twisted for little kids but anyone 8 or older will spot the friendly glint behind jack's empty eye sockets.\n",
      "\n",
      "This tough-to-peg whodunit keeps you going for two hours, despite a few James Bond-ish (or Jane Bond-ish) turns that play less preposterously than you might assume were they to be divulged.\n",
      "\n",
      "Considering the recent screen standards in book musicals with five numbers for 100 to 110 minutes of running time this Metro Santaclausing of numbers becomes virtually a double-feature filmusical.\n",
      "\n",
      "Though it's a good half hour too long, this overblown 1993 spin-off of the 60s TV show otherwise adds up to a pretty good suspense thriller.\n",
      "\n"
     ]
    }
   ],
   "source": [
    "x, y = make_xy(critics, vectorizer)\n",
    "\n",
    "prob = clf.predict_proba(x)[:, 0]\n",
    "predict = clf.predict(x)\n",
    "\n",
    "bad_rotten = np.argsort(prob[y == 0])[:5]\n",
    "bad_fresh = np.argsort(prob[y == 1])[-5:]\n",
    "\n",
    "print(\"Mis-predicted Rotten quotes\")\n",
    "print('---------------------------')\n",
    "for row in bad_rotten:\n",
    "    print(critics[y == 0].quote.iloc[row])\n",
    "    print(\"\")\n",
    "\n",
    "print(\"Mis-predicted Fresh quotes\")\n",
    "print('--------------------------')\n",
    "for row in bad_fresh:\n",
    "    print(critics[y == 1].quote.iloc[row])\n",
    "    print(\"\")"
   ]
  },
  {
   "cell_type": "markdown",
   "metadata": {},
   "source": [
    "<div class=\"span5 alert alert-info\">\n",
    "<h3>Exercise Set VII: Predicting the Freshness for a New Review</h3>\n",
    "<br/>\n",
    "<div>\n",
    "<b>Exercise:</b>\n",
    "<ul>\n",
    "<li> Using your best trained classifier, predict the freshness of the following sentence: *'This movie is not remarkable, touching, or superb in any way'*\n",
    "<li> Is the result what you'd expect? Why (not)?\n",
    "</ul>\n",
    "</div>\n",
    "</div>"
   ]
  },
  {
   "cell_type": "code",
   "execution_count": 69,
   "metadata": {},
   "outputs": [
    {
     "name": "stdout",
     "output_type": "stream",
     "text": [
      "The sentence['This movie is not remarkable, touching or superb in any way'] is predicted as Fresh with a probability of  85.97\n",
      "The sententence [\"The plot of Michael Grais' and Mark Victor's screenplay is even more nonsensical than it needs to be\"] is predicted as Rotten with a probability of  14.03\n",
      "The sententence [\"The plot of Michael Grais' and Mark Victor's screenplay is even more nonsensical than it needs to be, revolving around frequent unmotivated trips between parallel cartoon and live-action universes\"] is predicted as Rotten with a probability of  14.03\n"
     ]
    }
   ],
   "source": [
    "#your turn\n",
    "\n",
    "vectorizer = CountVectorizer(min_df=23)       \n",
    "X, y = make_xy(critics, vectorizer)\n",
    "Xtrain = X[mask]\n",
    "ytrain = y[mask]\n",
    "Xtest=X[~mask]\n",
    "ytest=y[~mask]\n",
    "# Multinomial NB scoring\n",
    "clf = MultinomialNB(alpha=5).fit(Xtrain, ytrain)\n",
    "# Predicting the Freshness for a New Review\n",
    "#Compare two negative sentences and their outcomes\n",
    "#Sentence ‘s’ has one negative word\n",
    "s = ['This movie is not remarkable, touching or superb in any way']\n",
    "s1 = [\"The plot of Michael Grais' and Mark Victor's screenplay is even more nonsensical than it needs to be\"]\n",
    "# Predicting the Freshness for another  Review    \n",
    "s2 = [\"The plot of Michael Grais' and Mark Victor's screenplay is even more nonsensical than it needs to be, revolving around frequent unmotivated trips between parallel cartoon and live-action universes\"]\n",
    "\n",
    "\n",
    "# call `transform` to convert text to a bag of words\n",
    "s_trans = vectorizer.transform(s)\n",
    "\n",
    "if clf.predict(s_trans)[0]==1:\n",
    "    print(f'The sentence{s} is predicted as Fresh with a probability of  %2.2f' %(100*clf.predict_proba(s_trans)[0,1]))\n",
    "else:\n",
    "    print(f'The sententence {s} is predicted as Rotten with a probability of  %2.2f' %(100*clf.predict_proba(s_trans)[0,0]))\n",
    "\n",
    "    \n",
    "# call `transform` to convert text to a bag of words\n",
    "s1_trans = vectorizer.transform(s1)\n",
    "if clf.predict(s1_trans)[0]==1:\n",
    "    print(f'The sentence{s1} is predicted as Fresh with a probability of  %2.2f' %(100*clf.predict_proba(s_trans)[0,1]))\n",
    "else:\n",
    "    print(f'The sententence {s1} is predicted as Rotten with a probability of  %2.2f' %(100*clf.predict_proba(s_trans)[0,0]))\n",
    "\n",
    "\n",
    "# call `transform` to covert text to a bag of words\n",
    "s2_trans = vectorizer.transform(s2)\n",
    "if clf.predict(s2_trans)[0]==1:\n",
    "    print(f'The sentence{s2} is predicted as Fresh with a probability of  %2.2f' %(100*clf.predict_proba(s_trans)[0,1]))\n",
    "else:\n",
    "    print(f'The sententence {s2} is predicted as Rotten with a probability of  %2.2f' %(100*clf.predict_proba(s_trans)[0,0]))\n"
   ]
  },
  {
   "cell_type": "markdown",
   "metadata": {},
   "source": [
    "*The first review should have been classified as $Rotten$ since it expresses a negative sentiment. The classifier has classified this as a $Fresh$ movie, because it contains a lot of positive words with only one negative word.This model does not take into account sentence structure and will not work in cases such as negation or sarcasm since it takes each word in separation.*"
   ]
  },
  {
   "cell_type": "markdown",
   "metadata": {},
   "source": [
    "### Aside: TF-IDF Weighting for Term Importance\n",
    "\n",
    "TF-IDF stands for \n",
    "\n",
    "`Term-Frequency X Inverse Document Frequency`.\n",
    "\n",
    "In the standard `CountVectorizer` model above, we used just the term frequency in a document of words in our vocabulary. In TF-IDF, we weight this term frequency by the inverse of its popularity in all documents. For example, if the word \"movie\" showed up in all the documents, it would not have much predictive value. It could actually be considered a stopword. By weighing its counts by 1 divided by its overall frequency, we downweight it. We can then use this TF-IDF weighted features as inputs to any classifier. **TF-IDF is essentially a measure of term importance, and of how discriminative a word is in a corpus.** There are a variety of nuances involved in computing TF-IDF, mainly involving where to add the smoothing term to avoid division by 0, or log of 0 errors. The formula for TF-IDF in `scikit-learn` differs from that of most textbooks: \n",
    "\n",
    "$$\\mbox{TF-IDF}(t, d) = \\mbox{TF}(t, d)\\times \\mbox{IDF}(t) = n_{td} \\log{\\left( \\frac{\\vert D \\vert}{\\vert d : t \\in d \\vert} + 1 \\right)}$$\n",
    "\n",
    "where $n_{td}$ is the number of times term $t$ occurs in document $d$, $\\vert D \\vert$ is the number of documents, and $\\vert d : t \\in d \\vert$ is the number of documents that contain $t$"
   ]
  },
  {
   "cell_type": "code",
   "execution_count": 70,
   "metadata": {},
   "outputs": [],
   "source": [
    "# http://scikit-learn.org/dev/modules/feature_extraction.html#text-feature-extraction\n",
    "# http://scikit-learn.org/dev/modules/classes.html#text-feature-extraction-ref\n",
    "from sklearn.feature_extraction.text import TfidfVectorizer\n",
    "tfidfvectorizer = TfidfVectorizer(min_df=1, stop_words='english')\n",
    "Xtfidf=tfidfvectorizer.fit_transform(critics.quote)"
   ]
  },
  {
   "cell_type": "markdown",
   "metadata": {},
   "source": [
    "<div class=\"span5 alert alert-info\">\n",
    "<h3>Exercise Set VIII: Enrichment <b>(Optional)</b></h3>\n",
    "\n",
    "<p>\n",
    "There are several additional things we could try. Try some of these as exercises:\n",
    "<ol>\n",
    "<li> Build a Naive Bayes model where the features are n-grams instead of words. N-grams are phrases containing n words next to each other: a bigram contains 2 words, a trigram contains 3 words, and 6-gram contains 6 words. This is useful because \"not good\" and \"so good\" mean very different things. On the other hand, as n increases, the model does not scale well since the feature set becomes more sparse.\n",
    "<li> Try a model besides Naive Bayes, one that would allow for interactions between words -- for example, a Random Forest classifier.\n",
    "<li> Try adding supplemental features -- information about genre, director, cast, etc.\n",
    "<li> Use word2vec or [Latent Dirichlet Allocation](https://en.wikipedia.org/wiki/Latent_Dirichlet_allocation) to group words into topics and use those topics for prediction.\n",
    "<li> Use TF-IDF weighting instead of word counts.\n",
    "</ol>\n",
    "</p>\n",
    "\n",
    "<b>Exercise:</b> Try at least one of these ideas to improve the model (or any other ideas of your own). Implement here and report on the result. \n",
    "</div>"
   ]
  },
  {
   "cell_type": "markdown",
   "metadata": {},
   "source": [
    "**Exercise: Build a Naive Bayes model where the features are n-grams instead of words. N-grams are phrases containing n words next to each other: a bigram contains 2 words, a trigram contains 3 words, and 6-gram contains 6 words. This is useful because \"not good\" and \"so good\" mean very different things. On the other hand, as n increases, the model does not scale well since the feature set becomes more sparse.**"
   ]
  },
  {
   "cell_type": "code",
   "execution_count": 71,
   "metadata": {},
   "outputs": [
    {
     "name": "stdout",
     "output_type": "stream",
     "text": [
      "\n",
      " best alpha: 10 \n",
      " best min df: 65  max score -600.6237516935223\n"
     ]
    }
   ],
   "source": [
    "# Your turn\n",
    "#Calculating best min_df for a bigram classifier\n",
    "from sklearn.naive_bayes import MultinomialNB\n",
    "\n",
    "#the grid of parameters to search over\n",
    "alphas = [.1, 1, 5, 10, 50]\n",
    "min_dfs= [15,20,23,25,30,35,40,45,50,52,55,60,65,70,75]\n",
    "\n",
    "#Find the best value for alpha and min_df, and the best classifier\n",
    "best_alpha = None\n",
    "maxscore=-np.inf\n",
    "for m in min_dfs:\n",
    "    for alpha in alphas:        \n",
    "        bigram_vectorizer = CountVectorizer(ngram_range=(1, 2),  min_df=m)      \n",
    "        Xthis, ythis = make_xy(critics, bigram_vectorizer)\n",
    "        Xtrainthis = Xthis[mask]\n",
    "        ytrainthis = ythis[mask]\n",
    "        clf = MultinomialNB(alpha=alpha)\n",
    "        score = cv_score(clf,Xtrainthis,ytrainthis,log_likelihood)\n",
    "        #print('alpha:',alpha,' min df:',m,' score:',score)\n",
    "        if score>maxscore:\n",
    "            maxscore=score\n",
    "            best_alpha=alpha\n",
    "            best_min_df=m\n",
    "print('\\n','best alpha:',best_alpha,'\\n','best min df:',best_min_df,' max score',maxscore)"
   ]
  },
  {
   "cell_type": "markdown",
   "metadata": {},
   "source": [
    "*As we can see from the results, the best alpha for bigram Vectorizer incresed by 5 poins and the best min_df also went up in Naive Bayes model where the features are n-grams instead of words.*"
   ]
  },
  {
   "cell_type": "code",
   "execution_count": 72,
   "metadata": {},
   "outputs": [
    {
     "name": "stdout",
     "output_type": "stream",
     "text": [
      "Accuracy on training data: 0.710363\n",
      "Accuracy on test data:     0.673319\n",
      "The sententence ['This movie is not remarkable, touching or superb in any way'] is predicted as Rotten with a probability of  80.66\n",
      "The sentence [\"The plot of Michael Grais' and Mark Victor's screenplay is even more nonsensical than it needs to be, revolving around frequent unmotivated trips between parallel cartoon and live-action universes\"] is predicted as Rotten with a probability of  80.66\n"
     ]
    }
   ],
   "source": [
    "# Naive Bayes model with bigrams , alpha = 10 and min_df = 65\n",
    "bigram_vectorizer = CountVectorizer(ngram_range=(1,2),min_df=65)\n",
    "X, y = make_xy(critics, bigram_vectorizer)\n",
    "xtrain=X[mask]\n",
    "ytrain=y[mask]\n",
    "xtest=X[~mask]\n",
    "ytest=y[~mask]\n",
    "\n",
    "clf = MultinomialNB(alpha=10).fit(xtrain, ytrain)\n",
    "\n",
    "training_accuracy = clf.score(xtrain, ytrain)\n",
    "test_accuracy = clf.score(xtest, ytest)\n",
    "\n",
    "print(\"Accuracy on training data: {:2f}\".format(training_accuracy))\n",
    "print(\"Accuracy on test data:     {:2f}\".format(test_accuracy))\n",
    "\n",
    "# Predicting the Freshness for a New Review\n",
    "s = ['This movie is not remarkable, touching or superb in any way']\n",
    "\n",
    "# call `transform` to convert text to a bag of words\n",
    "s_trans = bigram_vectorizer.transform(s)\n",
    "\n",
    "if clf.predict(s_trans)[0]==1:\n",
    "    print(f'The sentence{s} is predicted as Fresh with a probability of  %2.2f' %(100*clf.predict_proba(s_trans)[0,1]))\n",
    "else:\n",
    "    print(f'The sententence {s} is predicted as Rotten with a probability of  %2.2f' %(100*clf.predict_proba(s_trans)[0,0]))\n",
    "\n",
    "\n",
    "# Predicting the Freshness for another New Review    \n",
    "s1 = [\"The plot of Michael Grais' and Mark Victor's screenplay is even more nonsensical than it needs to be, revolving around frequent unmotivated trips between parallel cartoon and live-action universes\"]\n",
    "# call `transform` to convert text to a bag of words\n",
    "s1_trans = bigram_vectorizer.transform(s1)\n",
    "if clf.predict(s1_trans)[0]==1:\n",
    "    print(f'The sentence {s1} is predicted as Fresh with a probability of  %2.2f' %(100*clf.predict_proba(s_trans)[0,1]))\n",
    "else:\n",
    "    print(f'The sentence {s1} is predicted as Rotten with a probability of  %2.2f' %(100*clf.predict_proba(s_trans)[0,0]))\n",
    "    "
   ]
  },
  {
   "cell_type": "markdown",
   "metadata": {},
   "source": [
    "*The bigram model predicted the first sentence correctly as $Rotten$ with 0.66 probability. Accuracy score on training data in unigram vectorizer with best min_df and best alpha was 0.797815 whereas in bigram model, with it's best min_df and best alpha ,it decreased to 0.71. Accuracy on test data also decreases compared to a unigram model.* "
   ]
  },
  {
   "cell_type": "code",
   "execution_count": 73,
   "metadata": {},
   "outputs": [
    {
     "name": "stdout",
     "output_type": "stream",
     "text": [
      "Accuracy on training data: 0.792963\n",
      "Accuracy on test data:     0.709740\n",
      "The sentence \"This movie is not remarkable, touching or superb in any way\" is predicted as Fresh with a probability of  76.48\n",
      "The sentence [\"I didn't like this movie\"] is predicted as Rotten with a probability of  23.52\n"
     ]
    }
   ],
   "source": [
    "# Naive Bayes model with bigrams , alpha = 5 and min_df = 23\n",
    "bigram_vectorizer = CountVectorizer(ngram_range=(1,2),min_df=23)\n",
    "X, y = make_xy(critics, bigram_vectorizer)\n",
    "xtrain=X[mask]\n",
    "ytrain=y[mask]\n",
    "xtest=X[~mask]\n",
    "ytest=y[~mask]\n",
    "\n",
    "clf = MultinomialNB(alpha=5).fit(xtrain, ytrain)\n",
    "\n",
    "training_accuracy = clf.score(xtrain, ytrain)\n",
    "test_accuracy = clf.score(xtest, ytest)\n",
    "\n",
    "print(\"Accuracy on training data: {:2f}\".format(training_accuracy))\n",
    "print(\"Accuracy on test data:     {:2f}\".format(test_accuracy))\n",
    "\n",
    "s = [\"This movie is not remarkable, touching or superb in any way\"]\n",
    "# call `transform` to convert text to a bag of words\n",
    "s_trans = bigram_vectorizer.transform(s)\n",
    "\n",
    "\n",
    "if clf.predict(s_trans)[0]==1:\n",
    "    print('The sentence \"This movie is not remarkable, touching or superb in any way\" is predicted as Fresh with a probability of  %2.2f' %(100*clf.predict_proba(s_trans)[0,1]))\n",
    "else:\n",
    "    print('The sentence \"This movie is not remarkable, touching or superb in any way\" is predicted as Rotten with a probability of  %2.2f' %(100*clf.predict_proba(s_trans)[0,0]))\n",
    "    \n",
    "# Predicting the Freshness for another New Review    \n",
    "s1 = [\"I didn't like this movie\"]\n",
    "# call `transform` to convert text to a bag of words\n",
    "s1_trans = bigram_vectorizer.transform(s1)\n",
    "if clf.predict(s1_trans)[0]==1:\n",
    "    print(f'The sentence {s1} is predicted as Fresh with a probability of  %2.2f' %(100*clf.predict_proba(s_trans)[0,1]))\n",
    "else:\n",
    "    print(f'The sentence {s1} is predicted as Rotten with a probability of  %2.2f' %(100*clf.predict_proba(s_trans)[0,0]))\n",
    "    "
   ]
  },
  {
   "cell_type": "markdown",
   "metadata": {},
   "source": [
    "*When we set the same alpha which was used in unigram model i,e., alpha = 5 and min_df = 23, the results are not correct and also with slightly overfitting the training data. Accuracy on test data also decreases compared to a unigram model.* "
   ]
  },
  {
   "cell_type": "markdown",
   "metadata": {},
   "source": [
    "**Exercise:Try a model besides Naive Bayes, one that would allow for interactions between words -- for example, a Random Forest classifier.**"
   ]
  },
  {
   "cell_type": "code",
   "execution_count": 74,
   "metadata": {},
   "outputs": [
    {
     "name": "stdout",
     "output_type": "stream",
     "text": [
      "Accuracy on training data: 0.996138\n",
      "Accuracy on test data:     0.687667\n"
     ]
    }
   ],
   "source": [
    "# model with random forests\n",
    "from sklearn.ensemble import RandomForestClassifier\n",
    "\n",
    "vectorizer = CountVectorizer(min_df=23)\n",
    "X, y = make_xy(critics, vectorizer)\n",
    "xtrain=X[mask]\n",
    "ytrain=y[mask]\n",
    "xtest=X[~mask]\n",
    "ytest=y[~mask]\n",
    "\n",
    "rforest = RandomForestClassifier(n_estimators = 100)\n",
    "clf = rforest.fit(xtrain,ytrain)\n",
    "\n",
    "training_accuracy = clf.score(xtrain, ytrain)\n",
    "test_accuracy = clf.score(xtest, ytest)\n",
    "\n",
    "print(\"Accuracy on training data: {:2f}\".format(training_accuracy))\n",
    "print(\"Accuracy on test data:     {:2f}\".format(test_accuracy))"
   ]
  },
  {
   "cell_type": "markdown",
   "metadata": {},
   "source": [
    "*Random forests have great accuracy on the training data but way too much overfit to be successful on test data.*"
   ]
  },
  {
   "cell_type": "markdown",
   "metadata": {},
   "source": [
    "**Exercise: Try adding supplemental features -- information about genre, director, cast, etc.**"
   ]
  },
  {
   "cell_type": "code",
   "execution_count": 75,
   "metadata": {},
   "outputs": [
    {
     "data": {
      "text/plain": [
       "True"
      ]
     },
     "execution_count": 75,
     "metadata": {},
     "output_type": "execute_result"
    }
   ],
   "source": [
    "#Read the csv file\n",
    "df3 = pd.read_csv('./critics.csv')\n",
    "#See if there are any NaNs in the dataframe:\n",
    "df3.isnull().values.any()"
   ]
  },
  {
   "cell_type": "code",
   "execution_count": 76,
   "metadata": {},
   "outputs": [
    {
     "data": {
      "text/plain": [
       "critic          3891\n",
       "fresh              0\n",
       "imdb               0\n",
       "publication        0\n",
       "quote          12070\n",
       "review_date        0\n",
       "rtid               0\n",
       "title              0\n",
       "dtype: int64"
      ]
     },
     "execution_count": 76,
     "metadata": {},
     "output_type": "execute_result"
    }
   ],
   "source": [
    "#Since there are missing values, let's find out how many are there in each column\n",
    "df3.isnull().sum()"
   ]
  },
  {
   "cell_type": "code",
   "execution_count": 77,
   "metadata": {},
   "outputs": [
    {
     "data": {
      "text/plain": [
       "critic         0\n",
       "fresh          0\n",
       "imdb           0\n",
       "publication    0\n",
       "quote          0\n",
       "review_date    0\n",
       "rtid           0\n",
       "title          0\n",
       "dtype: int64"
      ]
     },
     "execution_count": 77,
     "metadata": {},
     "output_type": "execute_result"
    }
   ],
   "source": [
    "df3 = pd.read_csv('./critics.csv')\n",
    "#let's drop rows with missing quotes & critics\n",
    "df3 = df3[~df3.quote.isnull()]\n",
    "df3 = df3[~df3.critic.isnull()]\n",
    "df3.isnull().sum()"
   ]
  },
  {
   "cell_type": "code",
   "execution_count": 78,
   "metadata": {},
   "outputs": [
    {
     "data": {
      "text/plain": [
       "critic         object\n",
       "fresh          object\n",
       "imdb            int64\n",
       "publication    object\n",
       "quote          object\n",
       "review_date    object\n",
       "rtid            int64\n",
       "title          object\n",
       "dtype: object"
      ]
     },
     "execution_count": 78,
     "metadata": {},
     "output_type": "execute_result"
    }
   ],
   "source": [
    "df3.dtypes"
   ]
  },
  {
   "cell_type": "code",
   "execution_count": 79,
   "metadata": {},
   "outputs": [
    {
     "name": "stdout",
     "output_type": "stream",
     "text": [
      "feature critic has 622 unique categories\n",
      "feature fresh has 3 unique categories\n",
      "feature publication has 65 unique categories\n",
      "feature quote has 14782 unique categories\n",
      "feature review_date has 1544 unique categories\n",
      "feature title has 1893 unique categories\n"
     ]
    }
   ],
   "source": [
    "#decide which variable you want to use in a model\n",
    "\n",
    "for col_name in df3.columns:\n",
    "    if df3[col_name].dtypes == 'object':\n",
    "        unique_cat = len(df3[col_name].unique())\n",
    "        print(f\"feature {col_name} has {unique_cat} unique categories\")"
   ]
  },
  {
   "cell_type": "code",
   "execution_count": 80,
   "metadata": {},
   "outputs": [
    {
     "name": "stdout",
     "output_type": "stream",
     "text": [
      "Accuracy on training data: 0.652772\n",
      "Accuracy on test data:     0.614159\n",
      "The sentence [\"The plot of Michael Grais' and Mark Victor's screenplay is even more nonsensical than it needs to be\"] is predicted as Fresh with a probability of  68.17\n",
      "The sentence [\"The plot of Michael Grais' and Mark Victor's screenplay is even more nonsensical than it needs to be, revolving around frequent unmotivated trips between parallel cartoon and live-action universes\"] is predicted as Fresh with a probability of  68.17\n"
     ]
    }
   ],
   "source": [
    "#I would be using all the categorical variables except for review_dates \n",
    "\n",
    "\n",
    "vectorizer = CountVectorizer(min_df=23) \n",
    "def make_xy(critics, vectorizer=vectorizer):\n",
    "    #Your code here    \n",
    "    if vectorizer is None:\n",
    "        vectorizer = CountVectorizer()\n",
    "    X = vectorizer.fit_transform(df3.quote)\n",
    "    X = vectorizer.fit_transform(df3.publication)\n",
    "    X = vectorizer.fit_transform(df3.critic)\n",
    "    X = vectorizer.fit_transform(df3.title)\n",
    "    X = X.tocsc()  # some versions of sklearn return COO format\n",
    "    y = (critics.fresh == 'fresh').values.astype(np.int)\n",
    "    return X, y\n",
    "\n",
    "\n",
    "from sklearn.model_selection import train_test_split\n",
    "_, itest = train_test_split(range(df3.shape[0]), test_size = 0.3)\n",
    "mask = np.zeros(df3.shape[0], dtype=np.bool)\n",
    "mask[itest] = True\n",
    "\n",
    "\n",
    "X, y = make_xy(df3,vectorizer)\n",
    "xtrain=X[mask]\n",
    "ytrain=y[mask]\n",
    "xtest=X[~mask]\n",
    "ytest=y[~mask]\n",
    "\n",
    "clf = MultinomialNB(alpha=5).fit(xtrain, ytrain)\n",
    "\n",
    "training_accuracy = clf.score(xtrain, ytrain)\n",
    "test_accuracy = clf.score(xtest, ytest)\n",
    "\n",
    "print(\"Accuracy on training data: {:2f}\".format(training_accuracy))\n",
    "print(\"Accuracy on test data:     {:2f}\".format(test_accuracy))\n",
    "\n",
    "# Predicting the Freshness for a New Review\n",
    "s = [\"The plot of Michael Grais' and Mark Victor's screenplay is even more nonsensical than it needs to be\"]\n",
    "\n",
    "# call `transform` to convert text to a bag of words\n",
    "s_trans = vectorizer.transform(s)\n",
    "\n",
    "\n",
    "if clf.predict(s_trans)[0]==1:\n",
    "    print(f'The sentence {s} is predicted as Fresh with a probability of  %2.2f' %(100*clf.predict_proba(s_trans)[0,1]))\n",
    "else:\n",
    "    print('The sentence {s} is predicted as Rotten with a probability of  %2.2f' %(100*clf.predict_proba(s_trans)[0,0]))\n",
    "    \n",
    "# Predicting the Freshness for another New Review    \n",
    "s1 = [\"The plot of Michael Grais' and Mark Victor's screenplay is even more nonsensical than it needs to be, revolving around frequent unmotivated trips between parallel cartoon and live-action universes\"]\n",
    "# call `transform` to convert text to a bag of words\n",
    "s1_trans = vectorizer.transform(s1)\n",
    "if clf.predict(s1_trans)[0]==1:\n",
    "    print(f'The sentence {s1} is predicted as Fresh with a probability of  %2.2f' %(100*clf.predict_proba(s_trans)[0,1]))\n",
    "else:\n",
    "    print(f'The sentence {s1} is predicted as Rotten with a probability of  %2.2f' %(100*clf.predict_proba(s_trans)[0,0]))\n",
    "    "
   ]
  },
  {
   "cell_type": "markdown",
   "metadata": {},
   "source": [
    "*After adding additional features such as $title$, $publication$, $critic$, the accuracy went down to ~66%*"
   ]
  },
  {
   "cell_type": "markdown",
   "metadata": {},
   "source": [
    "**Exercise: Use word2vec or [Latent Dirichlet Allocation](https://en.wikipedia.org/wiki/Latent_Dirichlet_allocation) to group words into topics and use those topics for prediction.**"
   ]
  },
  {
   "cell_type": "code",
   "execution_count": 122,
   "metadata": {},
   "outputs": [],
   "source": [
    "import numpy as np\n",
    "import pandas as pd\n",
    "import re\n",
    "from nltk.corpus import stopwords \n",
    "import string\n",
    "from nltk.stem.wordnet import WordNetLemmatizer\n",
    "import gensim\n",
    "from gensim import corpora\n",
    "from sklearn.linear_model import LogisticRegression\n",
    "from sklearn.metrics import confusion_matrix,classification_report\n",
    "\n",
    "import warnings\n",
    "\n",
    "warnings.filterwarnings( 'ignore')"
   ]
  },
  {
   "cell_type": "code",
   "execution_count": 123,
   "metadata": {},
   "outputs": [],
   "source": [
    "#read data\n",
    "critics = pd.read_csv('./critics.csv')\n",
    "df = critics.dropna()\n",
    "df = df[df.astype(str).ne('none').all(1)]"
   ]
  },
  {
   "cell_type": "code",
   "execution_count": 124,
   "metadata": {},
   "outputs": [
    {
     "name": "stdout",
     "output_type": "stream",
     "text": [
      "fresh     9015\n",
      "rotten    5755\n",
      "Name: fresh, dtype: int64\n",
      "fresh     0.610359\n",
      "rotten    0.389641\n",
      "Name: fresh, dtype: float64\n"
     ]
    }
   ],
   "source": [
    "# Count the occurrences of Fresh and rotten\n",
    "o = df['fresh'].value_counts()\n",
    "print(o)\n",
    "\n",
    "# Print the ratio of fresh cases\n",
    "print(o / len(df.index))"
   ]
  },
  {
   "cell_type": "markdown",
   "metadata": {},
   "source": [
    "*LDA (short for Latent Dirichlet Allocation) is an unsupervised machine-learning model that takes documents as input and finds topics as output. The model also says in what percentage each document talks about each topic.Before fitting a topic model, we need to tokenize the text. *"
   ]
  },
  {
   "cell_type": "code",
   "execution_count": 125,
   "metadata": {},
   "outputs": [],
   "source": [
    "from nltk.tokenize import sent_tokenize, word_tokenize \n",
    "# Tokenization and preprocess by removing special characters:\n",
    "\n",
    "\n",
    "#1. Tokenization\n",
    "\n",
    "from nltk.tokenize import sent_tokenize, word_tokenize\n",
    "text = df.apply(lambda row: word_tokenize(row[\"quote\"]), axis=1)\n",
    "text = text.str.rstrip()\n",
    "\n",
    "\n",
    "# Define stopwords to exclude\n",
    "stop = set(stopwords.words('english'))\n",
    "stop.update((\"to\",\"mr\",\"mrs\",\"cc\",\"subject\",\"http\",\"from\",\"sent\", \"ect\", \"u\", \"fwd\", \"www\", \"com\"))\n",
    "\n",
    "# Define punctuations to exclude and lemmatizer\n",
    "exclude = set(string.punctuation)"
   ]
  },
  {
   "cell_type": "markdown",
   "metadata": {},
   "source": [
    "*Define clean function for Preprocessing the raw text:*\n",
    "\n",
    "*-Tokenization: Split the text into sentences and the sentences into words. Lowercase the words and remove punctuation.*\n",
    "\n",
    "*-stopwords are removed.*\n",
    "\n",
    "*-Words are lemmatized — words in third person are changed to first person and verbs in past and future tenses are changed into present.*\n",
    "\n",
    "*Words are stemmed — words are reduced to their root form.*"
   ]
  },
  {
   "cell_type": "code",
   "execution_count": 126,
   "metadata": {},
   "outputs": [
    {
     "name": "stdout",
     "output_type": "stream",
     "text": [
      "[['year', 'inventive', 'comedy'], ['winning', 'animated', 'feature', 'something', 'everyone', 'age', 'spectrum']]\n"
     ]
    }
   ],
   "source": [
    "# Define word cleaning function\n",
    "def clean(text, stop):\n",
    "    \n",
    "    \n",
    "    # Remove single characters from the start\n",
    "    text = re.sub(\"(\\\\w\\\\w)\\\\W+\\\\w\\\\W+(\\\\w\\\\w)\", \"\\\\1 \\\\2\",text) \n",
    "    # remove all single characters\n",
    "    text = re.sub(r'\\^[a-zA-Z]\\s+', ' ',text)\n",
    "    text = text.rstrip()\n",
    "    stop_free = \" \".join([i for i in text.lower().split() if((i not in stop) and (not i.isdigit()))])\n",
    "    punc_free = ''.join(i for i in stop_free if i not in exclude)\n",
    "    lemma = WordNetLemmatizer()\n",
    "    normalized = \" \".join(lemma.lemmatize(i) for i in punc_free.split())      \n",
    "    return normalized\n",
    "\n",
    "# Clean the emails in df and print results\n",
    "text_clean=[]\n",
    "for text in df['quote']:\n",
    "    text_clean.append(clean(text, stop).split())    \n",
    "print(text_clean[1:3])"
   ]
  },
  {
   "cell_type": "code",
   "execution_count": 127,
   "metadata": {},
   "outputs": [
    {
     "name": "stdout",
     "output_type": "stream",
     "text": [
      "First two sentences in the list before stripping special characters :\n",
      " 2                    The year's most inventive comedy.\n",
      "3    A winning animated feature that has something ...\n",
      "Name: quote, dtype: object\n",
      "First two sentences in the list after stripping special characters :\n",
      " [['year', 'inventive', 'comedy'], ['winning', 'animated', 'feature', 'something', 'everyone', 'age', 'spectrum']]\n"
     ]
    }
   ],
   "source": [
    "print(f\"First two sentences in the list before stripping special characters :\\n {df.quote[1:3]}\");\n",
    "print(f\"First two sentences in the list after stripping special characters :\\n {text_clean[1:3]}\");\n"
   ]
  },
  {
   "cell_type": "markdown",
   "metadata": {},
   "source": [
    "*Prior to topic modelling, we convert the tokenized and lemmatized text to a bag of words — which you can think of as a dictionary where the key is the word and value is the number of times that word occurs in the entire corpus.*"
   ]
  },
  {
   "cell_type": "code",
   "execution_count": 128,
   "metadata": {},
   "outputs": [
    {
     "name": "stdout",
     "output_type": "stream",
     "text": [
      "Dictionary(21735 unique tokens: ['charm', 'concept', 'could', 'design', 'engulfed']...)\n"
     ]
    }
   ],
   "source": [
    "# Define the dictionary\n",
    "dictionary = corpora.Dictionary(text_clean)\n",
    "\n",
    "# Define the corpus\n",
    "#Define the corpus by running doc2bow(doc to bag of words) on each piece of text in text_clean\n",
    "corpus = [dictionary.doc2bow(text) for text in text_clean]\n",
    "\n",
    "# Print corpus and dictionary\n",
    "print(dictionary)"
   ]
  },
  {
   "cell_type": "markdown",
   "metadata": {},
   "source": [
    "*To implement the LDA in Python, I use the package gensim*"
   ]
  },
  {
   "cell_type": "code",
   "execution_count": 129,
   "metadata": {},
   "outputs": [
    {
     "name": "stdout",
     "output_type": "stream",
     "text": [
      "(0, '0.015*\"movie\" + 0.005*\"like\" + 0.004*\"film\" + 0.004*\"u\" + 0.004*\"make\"')\n",
      "(1, '0.023*\"film\" + 0.007*\"movie\" + 0.006*\"director\" + 0.004*\"almost\" + 0.004*\"comedy\"')\n",
      "(2, '0.012*\"movie\" + 0.008*\"comedy\" + 0.005*\"funny\" + 0.004*\"good\" + 0.004*\"little\"')\n",
      "(3, '0.022*\"film\" + 0.015*\"movie\" + 0.015*\"one\" + 0.007*\"good\" + 0.007*\"make\"')\n",
      "(4, '0.018*\"movie\" + 0.009*\"one\" + 0.008*\"like\" + 0.007*\"character\" + 0.007*\"film\"')\n"
     ]
    }
   ],
   "source": [
    "# Define the LDA model\n",
    "ldamodel = gensim.models.ldamodel.LdaModel(corpus, num_topics=5, id2word=dictionary, passes=5)\n",
    "\n",
    "# Save the topics and top 5 words\n",
    "topics = ldamodel.print_topics(num_words=5)\n",
    "\n",
    "# Print the results\n",
    "for topic in topics:\n",
    "    print(topic)"
   ]
  },
  {
   "cell_type": "markdown",
   "metadata": {},
   "source": [
    "*A topic is represented as a weighted list of words. An example of a topic is shown above^*"
   ]
  },
  {
   "cell_type": "code",
   "execution_count": 130,
   "metadata": {},
   "outputs": [
    {
     "data": {
      "text/html": [
       "<div>\n",
       "<style scoped>\n",
       "    .dataframe tbody tr th:only-of-type {\n",
       "        vertical-align: middle;\n",
       "    }\n",
       "\n",
       "    .dataframe tbody tr th {\n",
       "        vertical-align: top;\n",
       "    }\n",
       "\n",
       "    .dataframe thead th {\n",
       "        text-align: right;\n",
       "    }\n",
       "</style>\n",
       "<table border=\"1\" class=\"dataframe\">\n",
       "  <thead>\n",
       "    <tr style=\"text-align: right;\">\n",
       "      <th></th>\n",
       "      <th>Topic</th>\n",
       "      <th>% Score</th>\n",
       "      <th>Original text</th>\n",
       "      <th>fresh</th>\n",
       "    </tr>\n",
       "  </thead>\n",
       "  <tbody>\n",
       "    <tr>\n",
       "      <th>0</th>\n",
       "      <td>4.0</td>\n",
       "      <td>0.738559</td>\n",
       "      <td>[ingenious, concept, design, execution, could,...</td>\n",
       "      <td>fresh</td>\n",
       "    </tr>\n",
       "    <tr>\n",
       "      <th>1</th>\n",
       "      <td>3.0</td>\n",
       "      <td>0.797212</td>\n",
       "      <td>[year, inventive, comedy]</td>\n",
       "      <td>fresh</td>\n",
       "    </tr>\n",
       "  </tbody>\n",
       "</table>\n",
       "</div>"
      ],
      "text/plain": [
       "   Topic      % Score                                      Original text  fresh\n",
       "0    4.0     0.738559  [ingenious, concept, design, execution, could,...  fresh\n",
       "1    3.0     0.797212                          [year, inventive, comedy]  fresh"
      ]
     },
     "execution_count": 130,
     "metadata": {},
     "output_type": "execute_result"
    }
   ],
   "source": [
    "# Getting to know your corpus\n",
    "def lda_topic_details(ldamodel, corpus):\n",
    "    topic_details_df = pd.DataFrame()\n",
    "    for i, row in enumerate(ldamodel[corpus]):\n",
    "        row = sorted(row, key=lambda x: (x[1]), reverse=True)\n",
    "        for j, (topic_num, prop_topic) in enumerate(row):\n",
    "            if j == 0:  # => dominant topic\n",
    "                wp = ldamodel.show_topic(topic_num)\n",
    "                topic_details_df = topic_details_df.append(pd.Series([topic_num, prop_topic]), ignore_index=True)\n",
    "    topic_details_df.columns = ['Topic', '    % Score']\n",
    "    return topic_details_df\n",
    "fresh = df[\"fresh\"].values\n",
    "\n",
    "contents = pd.DataFrame({'Original text': text_clean,\"fresh\":fresh })\n",
    "topic_details = pd.concat([lda_topic_details(ldamodel,\n",
    "                           corpus), contents], axis=1)\n",
    "topic_details.head(2)"
   ]
  },
  {
   "cell_type": "code",
   "execution_count": 131,
   "metadata": {},
   "outputs": [
    {
     "name": "stdout",
     "output_type": "stream",
     "text": [
      "   Topic      % Score                                      Original text  fresh\n",
      "0    4.0     0.738559  ingenious,concept,design,execution,could,watch...  fresh\n",
      "1    3.0     0.797212                              year,inventive,comedy  fresh\n"
     ]
    }
   ],
   "source": [
    "# transform the list of words back to string format to feed it to sklearn\n",
    "topic_details['Original text'] = [','.join(map(str, l)) for l in topic_details['Original text']]\n",
    "print(topic_details.head(2))"
   ]
  },
  {
   "cell_type": "code",
   "execution_count": 132,
   "metadata": {},
   "outputs": [],
   "source": [
    "# transform  to string format to feed it to sklearn vectorizer\n",
    "texts = topic_details[\"Original text\"].astype(str)\n",
    "topics = topic_details[\"fresh\"].astype(str).replace({'fresh':1,'rotten':0})"
   ]
  },
  {
   "cell_type": "code",
   "execution_count": 133,
   "metadata": {},
   "outputs": [
    {
     "name": "stdout",
     "output_type": "stream",
     "text": [
      "              precision    recall  f1-score   support\n",
      "\n",
      "           0       0.54      0.74      0.63      1853\n",
      "           1       0.80      0.62      0.69      3022\n",
      "\n",
      "   micro avg       0.66      0.66      0.66      4875\n",
      "   macro avg       0.67      0.68      0.66      4875\n",
      "weighted avg       0.70      0.66      0.67      4875\n",
      "\n"
     ]
    }
   ],
   "source": [
    "from sklearn.feature_extraction.text import ENGLISH_STOP_WORDS\n",
    "from sklearn.feature_extraction.text import CountVectorizer\n",
    "\n",
    "vectorizer = CountVectorizer(min_df = 23 )\n",
    "vectors = vectorizer.fit_transform(texts).toarray()\n",
    "from sklearn.model_selection import train_test_split\n",
    "vectors_train, vectors_test, topics_train, topics_test = train_test_split(vectors, topics,test_size = 0.33)\n",
    "from sklearn.naive_bayes import GaussianNB\n",
    "classifier = GaussianNB()\n",
    "classifier.fit(vectors_train, topics_train)\n",
    "\n",
    "# Predict with the testing set\n",
    "topics_pred = classifier.predict(vectors_test)\n",
    "\n",
    "# measure the accuracy of the results\n",
    "from sklearn.metrics import classification_report\n",
    "print(classification_report(topics_test, topics_pred))"
   ]
  },
  {
   "cell_type": "markdown",
   "metadata": {},
   "source": [
    "*Precision and recall are two extremely important model evaluation metrics. While precision refers to the percentage of your results which are relevant, recall refers to the percentage of total relevant results correctly classified by your algorithm. F-1 score is a harmonic mean of precision and recall.*"
   ]
  },
  {
   "cell_type": "code",
   "execution_count": 134,
   "metadata": {},
   "outputs": [
    {
     "name": "stdout",
     "output_type": "stream",
     "text": [
      "training accuracy:  0.769277412834765\n",
      "testing accuracy:  0.7296410256410256\n",
      "The sentence['This movie is not remarkable, touching or superb in any way'] is predicted as Fresh with a probability of  99.77\n",
      "The sentence [\"The plot of Michael Grais' and Mark Victor's screenplay is even more nonsensical than it needs to be, revolving around frequent unmotivated trips between parallel cartoon and live-action universes\"] is predicted as Rotten with a probability of  0.23\n"
     ]
    }
   ],
   "source": [
    "from sklearn.naive_bayes import MultinomialNB\n",
    "from sklearn.metrics import accuracy_score\n",
    "\n",
    "vectors_train, vectors_test, topics_train, topics_test = train_test_split(vectors, topics,test_size = 0.33)\n",
    "clf = MultinomialNB()\n",
    "clf.fit(vectors_train,topics_train)\n",
    "print(\"training accuracy: \", accuracy_score(topics_train, clf.predict(vectors_train)))\n",
    "print(\"testing accuracy: \", accuracy_score(topics_test, clf.predict(vectors_test)))\n",
    "# Predicting the Freshness for a New Review\n",
    "#Compare two negative sentences and their outcomes\n",
    "#Sentence ‘s’ has one negative word\n",
    "s = [\"This movie is not remarkable, touching or superb in any way\"]\n",
    "# Predicting the Freshness for another  Review    \n",
    "s1 = [\"The plot of Michael Grais' and Mark Victor's screenplay is even more nonsensical than it needs to be, revolving around frequent unmotivated trips between parallel cartoon and live-action universes\"]\n",
    "\n",
    "# call `transform` to convert text to a bag of words\n",
    "s_trans = vectorizer.transform(s)\n",
    "\n",
    "\n",
    "if clf.predict(s_trans)[0]==1:\n",
    "    print(f'The sentence{s} is predicted as Fresh with a probability of  %2.2f' %(100*clf.predict_proba(s_trans)[0,1]))\n",
    "else:\n",
    "    print(f'The sententence {s} is predicted as Rotten with a probability of  %2.2f' %(100*clf.predict_proba(s_trans)[0,0]))\n",
    "\n",
    "\n",
    "\n",
    "\n",
    "# call `transform` to convert text to a bag of words\n",
    "s1_trans = vectorizer.transform(s1)\n",
    "if clf.predict(s1_trans)[0]==1:\n",
    "    print(f'The sentence {s1} is predicted as Fresh with a probability of  %2.2f' %(100*clf.predict_proba(s_trans)[0,1]))\n",
    "else:\n",
    "    print(f'The sentence {s1} is predicted as Rotten with a probability of  %2.2f' %(100*clf.predict_proba(s_trans)[0,0]))\n",
    "    "
   ]
  },
  {
   "cell_type": "code",
   "execution_count": 135,
   "metadata": {},
   "outputs": [
    {
     "name": "stdout",
     "output_type": "stream",
     "text": [
      "Topic: 0 \n",
      "Words: ['movie', 'like', 'film', 'u', 'make', 'it', 'funny', 'even', 'joke', 'good', 'character', 'much', 'love', 'enough', 'never', 'seems', 'story', 'screen', 'big', 'le']\n",
      "Topic: 1 \n",
      "Words: ['film', 'movie', 'director', 'almost', 'comedy', 'story', 'feature', 'make', 'drama', 'funny', 'horror', 'work', 'best', 'one', 'musical', 'hit', 'never', 'new', 'emotional', 'well']\n",
      "Topic: 2 \n",
      "Words: ['movie', 'comedy', 'funny', 'good', 'little', 'really', 'story', 'eye', 'make', 'much', 'performance', 'effect', 'character', 'look', 'like', 'go', 'day', 'bad', 'never', 'fun']\n",
      "Topic: 3 \n",
      "Words: ['film', 'movie', 'one', 'good', 'make', 'great', 'story', 'way', 'much', 'even', 'comedy', 'time', 'year', 'it', 'best', 'character', 'audience', 'two', 'like', 'thing']\n",
      "Topic: 4 \n",
      "Words: ['movie', 'one', 'like', 'character', 'film', 'time', 'best', 'performance', 'first', 'work', 'made', 'ever', 'much', 'feel', 'thriller', 'know', 'life', 'screen', 'come', 'two']\n"
     ]
    }
   ],
   "source": [
    "for idx, topic in ldamodel.show_topics(formatted=False, num_words= 20):\n",
    "    print('Topic: {} \\nWords: {}'.format(idx, [w[0] for w in topic]))"
   ]
  },
  {
   "cell_type": "markdown",
   "metadata": {},
   "source": [
    "*As we can see the model still needs fine tuning to perform better*"
   ]
  },
  {
   "cell_type": "markdown",
   "metadata": {},
   "source": [
    "*To classify a document as belonging to a particular topic, a logical approach is to see which topic has the highest contribution to that document and assign it.*\n"
   ]
  },
  {
   "cell_type": "code",
   "execution_count": 136,
   "metadata": {},
   "outputs": [
    {
     "data": {
      "text/html": [
       "<div>\n",
       "<style scoped>\n",
       "    .dataframe tbody tr th:only-of-type {\n",
       "        vertical-align: middle;\n",
       "    }\n",
       "\n",
       "    .dataframe tbody tr th {\n",
       "        vertical-align: top;\n",
       "    }\n",
       "\n",
       "    .dataframe thead th {\n",
       "        text-align: right;\n",
       "    }\n",
       "</style>\n",
       "<table border=\"1\" class=\"dataframe\">\n",
       "  <thead>\n",
       "    <tr style=\"text-align: right;\">\n",
       "      <th></th>\n",
       "      <th>Document_No</th>\n",
       "      <th>Dominant_Topic</th>\n",
       "      <th>Perc_Contrib</th>\n",
       "      <th>Keywords</th>\n",
       "      <th>Text</th>\n",
       "    </tr>\n",
       "  </thead>\n",
       "  <tbody>\n",
       "    <tr>\n",
       "      <th>0</th>\n",
       "      <td>0</td>\n",
       "      <td>4.0</td>\n",
       "      <td>0.7386</td>\n",
       "      <td>movie, one, like, character, film, time, best,...</td>\n",
       "      <td>ingenious,concept,design,execution,could,watch...</td>\n",
       "    </tr>\n",
       "    <tr>\n",
       "      <th>1</th>\n",
       "      <td>1</td>\n",
       "      <td>3.0</td>\n",
       "      <td>0.7972</td>\n",
       "      <td>film, movie, one, good, make, great, story, wa...</td>\n",
       "      <td>year,inventive,comedy</td>\n",
       "    </tr>\n",
       "    <tr>\n",
       "      <th>2</th>\n",
       "      <td>2</td>\n",
       "      <td>1.0</td>\n",
       "      <td>0.7328</td>\n",
       "      <td>film, movie, director, almost, comedy, story, ...</td>\n",
       "      <td>winning,animated,feature,something,everyone,ag...</td>\n",
       "    </tr>\n",
       "    <tr>\n",
       "      <th>3</th>\n",
       "      <td>3</td>\n",
       "      <td>1.0</td>\n",
       "      <td>0.6738</td>\n",
       "      <td>film, movie, director, almost, comedy, story, ...</td>\n",
       "      <td>film,sport,provocative,appealing,story,every,b...</td>\n",
       "    </tr>\n",
       "    <tr>\n",
       "      <th>4</th>\n",
       "      <td>4</td>\n",
       "      <td>2.0</td>\n",
       "      <td>0.5869</td>\n",
       "      <td>movie, comedy, funny, good, little, really, st...</td>\n",
       "      <td>entertaining,computergenerated,hyperrealist,an...</td>\n",
       "    </tr>\n",
       "    <tr>\n",
       "      <th>5</th>\n",
       "      <td>5</td>\n",
       "      <td>3.0</td>\n",
       "      <td>0.8781</td>\n",
       "      <td>film, movie, one, good, make, great, story, wa...</td>\n",
       "      <td>lion,king,it,toy,story,revived,art,american,ch...</td>\n",
       "    </tr>\n",
       "    <tr>\n",
       "      <th>6</th>\n",
       "      <td>6</td>\n",
       "      <td>1.0</td>\n",
       "      <td>0.4663</td>\n",
       "      <td>film, movie, director, almost, comedy, story, ...</td>\n",
       "      <td>film,probably,fully,appreciated,adult,wholl,lo...</td>\n",
       "    </tr>\n",
       "    <tr>\n",
       "      <th>7</th>\n",
       "      <td>7</td>\n",
       "      <td>3.0</td>\n",
       "      <td>0.6838</td>\n",
       "      <td>film, movie, one, good, make, great, story, wa...</td>\n",
       "      <td>child,enjoy,new,take,irresistible,idea,toy,com...</td>\n",
       "    </tr>\n",
       "    <tr>\n",
       "      <th>8</th>\n",
       "      <td>8</td>\n",
       "      <td>2.0</td>\n",
       "      <td>0.6195</td>\n",
       "      <td>movie, comedy, funny, good, little, really, st...</td>\n",
       "      <td>although,computergenerated,imagery,impressive,...</td>\n",
       "    </tr>\n",
       "    <tr>\n",
       "      <th>9</th>\n",
       "      <td>9</td>\n",
       "      <td>1.0</td>\n",
       "      <td>0.7154</td>\n",
       "      <td>film, movie, director, almost, comedy, story, ...</td>\n",
       "      <td>perfect,two,popular,funny,guy,around,tom,hank,...</td>\n",
       "    </tr>\n",
       "  </tbody>\n",
       "</table>\n",
       "</div>"
      ],
      "text/plain": [
       "   Document_No  Dominant_Topic  Perc_Contrib                                           Keywords                                               Text\n",
       "0            0             4.0        0.7386  movie, one, like, character, film, time, best,...  ingenious,concept,design,execution,could,watch...\n",
       "1            1             3.0        0.7972  film, movie, one, good, make, great, story, wa...                              year,inventive,comedy\n",
       "2            2             1.0        0.7328  film, movie, director, almost, comedy, story, ...  winning,animated,feature,something,everyone,ag...\n",
       "3            3             1.0        0.6738  film, movie, director, almost, comedy, story, ...  film,sport,provocative,appealing,story,every,b...\n",
       "4            4             2.0        0.5869  movie, comedy, funny, good, little, really, st...  entertaining,computergenerated,hyperrealist,an...\n",
       "5            5             3.0        0.8781  film, movie, one, good, make, great, story, wa...  lion,king,it,toy,story,revived,art,american,ch...\n",
       "6            6             1.0        0.4663  film, movie, director, almost, comedy, story, ...  film,probably,fully,appreciated,adult,wholl,lo...\n",
       "7            7             3.0        0.6838  film, movie, one, good, make, great, story, wa...  child,enjoy,new,take,irresistible,idea,toy,com...\n",
       "8            8             2.0        0.6195  movie, comedy, funny, good, little, really, st...  although,computergenerated,imagery,impressive,...\n",
       "9            9             1.0        0.7154  film, movie, director, almost, comedy, story, ...  perfect,two,popular,funny,guy,around,tom,hank,..."
      ]
     },
     "execution_count": 136,
     "metadata": {},
     "output_type": "execute_result"
    }
   ],
   "source": [
    "# Show top n keywords for each topic in the document\n",
    "\n",
    "def format_topics_sentences(ldamodel = ldamodel, corpus=corpus, texts = texts):\n",
    "    # Init output\n",
    "    sent_topics_df = pd.DataFrame()\n",
    "\n",
    "    # Get main topic in each document\n",
    "    for i, row_list in enumerate(ldamodel[corpus]):\n",
    "        row = row_list[0] if ldamodel.per_word_topics else row_list            \n",
    "        # print(row)\n",
    "        row = sorted(row, key=lambda x: (x[1]), reverse=True)\n",
    "        # Get the Dominant topic, Perc Contribution and Keywords for each document\n",
    "        for j, (topic_num, prop_topic) in enumerate(row):\n",
    "            if j == 0:  # => dominant topic\n",
    "                wp = ldamodel.show_topic(topic_num)\n",
    "                topic_keywords = \", \".join([word for word, prop in wp])\n",
    "                sent_topics_df = sent_topics_df.append(pd.Series([int(topic_num), round(prop_topic,4), topic_keywords]), ignore_index=True)\n",
    "            else:\n",
    "                break\n",
    "    sent_topics_df.columns = ['Dominant_Topic', 'Perc_Contribution', 'Topic_Keywords']\n",
    "\n",
    "    # Add original text to the end of the output\n",
    "    contents = pd.Series(texts)\n",
    "    sent_topics_df = pd.concat([sent_topics_df, contents], axis=1)\n",
    "    return(sent_topics_df)\n",
    "\n",
    "\n",
    "df_topic_sents_keywords = format_topics_sentences(ldamodel=ldamodel, corpus=corpus, texts= texts)\n",
    "\n",
    "# Format\n",
    "df_dominant_topic = df_topic_sents_keywords.reset_index()\n",
    "df_dominant_topic.columns = ['Document_No', 'Dominant_Topic', 'Perc_Contrib', 'Keywords', 'Text']\n",
    "df_dominant_topic.head(10)"
   ]
  },
  {
   "cell_type": "markdown",
   "metadata": {},
   "source": [
    "**Exercise: Use TF-IDF weighting instead of word counts.**"
   ]
  },
  {
   "cell_type": "code",
   "execution_count": 117,
   "metadata": {},
   "outputs": [],
   "source": [
    "# Use term importance measured by TF-IDF weighting instead of word counts\n",
    "from sklearn.feature_extraction.text import TfidfVectorizer\n",
    "#read data\n",
    "critics = pd.read_csv('./critics.csv')\n",
    "df = critics.dropna()\n",
    "df = df[df.astype(str).ne('none').all(1)]\n",
    "\n",
    "def make_xy(df, vectorizer=None):\n",
    "    #Your code here    \n",
    "    if vectorizer is None:\n",
    "        vectorizer = TfidfVectorizer()\n",
    "    X = vectorizer.fit_transform(df.quote)\n",
    "    X = X.tocsc()  # some versions of sklearn return COO format\n",
    "    y = (df.fresh == 'fresh').values.astype(np.int)\n",
    "    return X, y\n",
    "X, y = make_xy(df)\n",
    "\n",
    "from sklearn.model_selection import train_test_split\n",
    "_, itest = train_test_split(range(df.shape[0]), test_size = 0.3)\n",
    "mask = np.zeros(df.shape[0], dtype=np.bool)\n",
    "mask[itest] = True\n",
    "\n"
   ]
  },
  {
   "cell_type": "code",
   "execution_count": 119,
   "metadata": {},
   "outputs": [
    {
     "name": "stdout",
     "output_type": "stream",
     "text": [
      "\n",
      " best alpha: 0.1 \n",
      " best min df: 15  max score -515.4893915953022\n"
     ]
    }
   ],
   "source": [
    "from sklearn.naive_bayes import MultinomialNB\n",
    "\n",
    "#the grid of parameters to search over\n",
    "alphas = [.1, 1, 5, 10, 50]\n",
    "min_dfs= [15,20,23,25,30,35,40,45,50,52,55,60,65,70,75]\n",
    "\n",
    "#Find the best value for alpha and min_df, and the best classifier\n",
    "best_alpha = None\n",
    "maxscore=-np.inf\n",
    "for m in min_dfs:\n",
    "    for alpha in alphas:        \n",
    "        tfidfvectorizer = TfidfVectorizer(min_df = m, stop_words='english')      \n",
    "        Xthis, ythis = make_xy(df, tfidvectorizer)\n",
    "        Xtrainthis = Xthis[mask]\n",
    "        ytrainthis = ythis[mask]\n",
    "        clf = MultinomialNB(alpha=alpha)\n",
    "        score = cv_score(clf,Xtrainthis,ytrainthis,log_likelihood)\n",
    "        #print('alpha:',alpha,' min df:',m,' score:',score)\n",
    "        if score>maxscore:\n",
    "            maxscore=score\n",
    "            best_alpha=alpha\n",
    "            best_min_df=m\n",
    "print('\\n','best alpha:',best_alpha,'\\n','best min df:',best_min_df,' max score',maxscore)"
   ]
  },
  {
   "cell_type": "code",
   "execution_count": 120,
   "metadata": {},
   "outputs": [
    {
     "name": "stdout",
     "output_type": "stream",
     "text": [
      "Accuracy on training data: 0.832995\n",
      "Accuracy on test data:     0.708289\n",
      "The sentence ['This movie is not remarkable, touching or superb in any way'] is predicted as Fresh with a probability of  98.76\n",
      "The sentence [\"The plot of Michael Grais' and Mark Victor's screenplay is even more nonsensical than it needs to be, revolving around frequent unmotivated trips between parallel cartoon and live-action universes\"] is predicted as Rotten with a probability of  1.24\n",
      "The sentence [\"The plot of Michael Grais' and Mark Victor's screenplay is even more nonsensical than it needs to be\"] is predicted as Rotten with a probability of  1.24\n"
     ]
    }
   ],
   "source": [
    "tfidfvectorizer = TfidfVectorizer(min_df = 15, stop_words='english')\n",
    "X, y = make_xy(df, tfidfvectorizer)\n",
    "xtrain=X[mask]\n",
    "ytrain=y[mask]\n",
    "xtest=X[~mask]\n",
    "ytest=y[~mask]\n",
    "\n",
    "clf = MultinomialNB(alpha=0.1).fit(xtrain, ytrain)\n",
    "\n",
    "# Print the accuracy on the test and training dataset\n",
    "training_accuracy = clf.score(xtrain, ytrain)\n",
    "test_accuracy = clf.score(xtest, ytest)\n",
    "\n",
    "print(\"Accuracy on training data: {:2f}\".format(training_accuracy))\n",
    "print(\"Accuracy on test data:     {:2f}\".format(test_accuracy))\n",
    "\n",
    "# Predicting the Freshness for a New Review\n",
    "s = ['This movie is not remarkable, touching or superb in any way']\n",
    "\n",
    "# call `transform` to convert text to a bag of words\n",
    "s_trans = tfidfvectorizer.transform(s)\n",
    "\n",
    "\n",
    "if clf.predict(s_trans)[0]==1:\n",
    "    print(f'The sentence {s} is predicted as Fresh with a probability of  %2.2f' %(100*clf.predict_proba(s_trans)[0,1]))\n",
    "else:\n",
    "    print('The sentence {s} is predicted as Rotten with a probability of  %2.2f' %(100*clf.predict_proba(s_trans)[0,0]))\n",
    "    \n",
    "# Predicting the Freshness for another New Review    \n",
    "s1 = [\"The plot of Michael Grais' and Mark Victor's screenplay is even more nonsensical than it needs to be, revolving around frequent unmotivated trips between parallel cartoon and live-action universes\"]\n",
    "\n",
    "# call `transform` to convert text to a bag of words\n",
    "s1_trans = tfidfvectorizer.transform(s1)\n",
    "if clf.predict(s1_trans)[0]==1:\n",
    "    print(f'The sentence {s1} is predicted as Fresh with a probability of  %2.2f' %(100*clf.predict_proba(s_trans)[0,1]))\n",
    "else:\n",
    "    print(f'The sentence {s1} is predicted as Rotten with a probability of  %2.2f' %(100*clf.predict_proba(s_trans)[0,0]))\n",
    "    \n",
    "    \n",
    "s2 = [\"The plot of Michael Grais' and Mark Victor's screenplay is even more nonsensical than it needs to be\"]\n",
    "\n",
    "# call `transform` to convert text to a bag of words\n",
    "s2_trans = tfidfvectorizer.transform(s1)\n",
    "if clf.predict(s1_trans)[0]==1:\n",
    "    print(f'The sentence {s2} is predicted as Fresh with a probability of  %2.2f' %(100*clf.predict_proba(s_trans)[0,1]))\n",
    "else:\n",
    "    print(f'The sentence {s2} is predicted as Rotten with a probability of  %2.2f' %(100*clf.predict_proba(s_trans)[0,0]))\n",
    "    "
   ]
  },
  {
   "cell_type": "markdown",
   "metadata": {},
   "source": [
    "*The tfidvectorizer classifier gives mixed results for  sentences with negation and sarcasm. The accuracy of training data is overfitting the accuracy of test data*"
   ]
  },
  {
   "cell_type": "code",
   "execution_count": null,
   "metadata": {},
   "outputs": [],
   "source": []
  }
 ],
 "metadata": {
  "kernelspec": {
   "display_name": "Python 3",
   "language": "python",
   "name": "python3"
  },
  "language_info": {
   "codemirror_mode": {
    "name": "ipython",
    "version": 3
   },
   "file_extension": ".py",
   "mimetype": "text/x-python",
   "name": "python",
   "nbconvert_exporter": "python",
   "pygments_lexer": "ipython3",
   "version": "3.7.3"
  }
 },
 "nbformat": 4,
 "nbformat_minor": 1
}
